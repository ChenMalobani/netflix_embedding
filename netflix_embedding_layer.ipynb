{
 "cells": [
  {
   "cell_type": "markdown",
   "metadata": {},
   "source": [
    "# Netflix Challenge Embedding layer"
   ]
  },
  {
   "cell_type": "markdown",
   "metadata": {},
   "source": [
    "## This notebook is intended as an example for embedding layers. The goal is to use part of the Netflix Challenge data to create a simple recommendation system and a meaningful embedding for the movies in the dataset."
   ]
  },
  {
   "cell_type": "code",
   "execution_count": 1,
   "metadata": {
    "colab": {},
    "colab_type": "code",
    "id": "DNYRM4w9E5FA"
   },
   "outputs": [
    {
     "name": "stderr",
     "output_type": "stream",
     "text": [
      "Using TensorFlow backend.\n"
     ]
    }
   ],
   "source": [
    "import pandas as pd\n",
    "import numpy as np\n",
    "from collections import Counter\n",
    "\n",
    "import os\n",
    "import tarfile\n",
    "import gc\n",
    "import matplotlib.pyplot as plt\n",
    "%matplotlib inline\n",
    "from sklearn.model_selection import train_test_split\n",
    "import tensorflow as tf\n",
    "import keras\n",
    "import sys"
   ]
  },
  {
   "cell_type": "markdown",
   "metadata": {},
   "source": [
    "# Data preperation "
   ]
  },
  {
   "cell_type": "markdown",
   "metadata": {
    "colab_type": "text",
    "id": "fXZbouHPE5FI"
   },
   "source": [
    "## In this example our terminology will be:\n",
    "    data - the part of the data we can build our model with.\n",
    "        split into:\n",
    "        - train - fitting the model\n",
    "        - dev - evauate the model during development and tweaking\n",
    "    probe - the original netflix self-test set for which RMSE were reported"
   ]
  },
  {
   "cell_type": "code",
   "execution_count": 2,
   "metadata": {
    "colab": {},
    "colab_type": "code",
    "id": "ANsgrGROE5FK"
   },
   "outputs": [],
   "source": [
    "data_df = pd.read_csv('resources/data/train.csv')"
   ]
  },
  {
   "cell_type": "code",
   "execution_count": 3,
   "metadata": {},
   "outputs": [
    {
     "name": "stdout",
     "output_type": "stream",
     "text": [
      "(99072112, 3)\n"
     ]
    },
    {
     "data": {
      "text/html": [
       "<div>\n",
       "<style scoped>\n",
       "    .dataframe tbody tr th:only-of-type {\n",
       "        vertical-align: middle;\n",
       "    }\n",
       "\n",
       "    .dataframe tbody tr th {\n",
       "        vertical-align: top;\n",
       "    }\n",
       "\n",
       "    .dataframe thead th {\n",
       "        text-align: right;\n",
       "    }\n",
       "</style>\n",
       "<table border=\"1\" class=\"dataframe\">\n",
       "  <thead>\n",
       "    <tr style=\"text-align: right;\">\n",
       "      <th></th>\n",
       "      <th>user_id</th>\n",
       "      <th>movie_id</th>\n",
       "      <th>rating</th>\n",
       "    </tr>\n",
       "  </thead>\n",
       "  <tbody>\n",
       "    <tr>\n",
       "      <th>0</th>\n",
       "      <td>1488844</td>\n",
       "      <td>1</td>\n",
       "      <td>3</td>\n",
       "    </tr>\n",
       "    <tr>\n",
       "      <th>1</th>\n",
       "      <td>822109</td>\n",
       "      <td>1</td>\n",
       "      <td>5</td>\n",
       "    </tr>\n",
       "    <tr>\n",
       "      <th>2</th>\n",
       "      <td>885013</td>\n",
       "      <td>1</td>\n",
       "      <td>4</td>\n",
       "    </tr>\n",
       "    <tr>\n",
       "      <th>3</th>\n",
       "      <td>823519</td>\n",
       "      <td>1</td>\n",
       "      <td>3</td>\n",
       "    </tr>\n",
       "    <tr>\n",
       "      <th>4</th>\n",
       "      <td>893988</td>\n",
       "      <td>1</td>\n",
       "      <td>3</td>\n",
       "    </tr>\n",
       "  </tbody>\n",
       "</table>\n",
       "</div>"
      ],
      "text/plain": [
       "   user_id  movie_id  rating\n",
       "0  1488844         1       3\n",
       "1   822109         1       5\n",
       "2   885013         1       4\n",
       "3   823519         1       3\n",
       "4   893988         1       3"
      ]
     },
     "execution_count": 3,
     "metadata": {},
     "output_type": "execute_result"
    }
   ],
   "source": [
    "print(data_df.shape)\n",
    "data_df.head()"
   ]
  },
  {
   "cell_type": "code",
   "execution_count": 4,
   "metadata": {
    "colab": {},
    "colab_type": "code",
    "id": "bfvlmIBBE5FP"
   },
   "outputs": [],
   "source": [
    "probe_df = pd.read_csv('resources/data/probe.csv')"
   ]
  },
  {
   "cell_type": "code",
   "execution_count": 5,
   "metadata": {},
   "outputs": [
    {
     "name": "stdout",
     "output_type": "stream",
     "text": [
      "(1408395, 3)\n"
     ]
    },
    {
     "data": {
      "text/html": [
       "<div>\n",
       "<style scoped>\n",
       "    .dataframe tbody tr th:only-of-type {\n",
       "        vertical-align: middle;\n",
       "    }\n",
       "\n",
       "    .dataframe tbody tr th {\n",
       "        vertical-align: top;\n",
       "    }\n",
       "\n",
       "    .dataframe thead th {\n",
       "        text-align: right;\n",
       "    }\n",
       "</style>\n",
       "<table border=\"1\" class=\"dataframe\">\n",
       "  <thead>\n",
       "    <tr style=\"text-align: right;\">\n",
       "      <th></th>\n",
       "      <th>user_id</th>\n",
       "      <th>movie_id</th>\n",
       "      <th>rating</th>\n",
       "    </tr>\n",
       "  </thead>\n",
       "  <tbody>\n",
       "    <tr>\n",
       "      <th>0</th>\n",
       "      <td>30878</td>\n",
       "      <td>1</td>\n",
       "      <td>4</td>\n",
       "    </tr>\n",
       "    <tr>\n",
       "      <th>1</th>\n",
       "      <td>2647871</td>\n",
       "      <td>1</td>\n",
       "      <td>4</td>\n",
       "    </tr>\n",
       "    <tr>\n",
       "      <th>2</th>\n",
       "      <td>1283744</td>\n",
       "      <td>1</td>\n",
       "      <td>3</td>\n",
       "    </tr>\n",
       "    <tr>\n",
       "      <th>3</th>\n",
       "      <td>2488120</td>\n",
       "      <td>1</td>\n",
       "      <td>5</td>\n",
       "    </tr>\n",
       "    <tr>\n",
       "      <th>4</th>\n",
       "      <td>317050</td>\n",
       "      <td>1</td>\n",
       "      <td>5</td>\n",
       "    </tr>\n",
       "  </tbody>\n",
       "</table>\n",
       "</div>"
      ],
      "text/plain": [
       "   user_id  movie_id  rating\n",
       "0    30878         1       4\n",
       "1  2647871         1       4\n",
       "2  1283744         1       3\n",
       "3  2488120         1       5\n",
       "4   317050         1       5"
      ]
     },
     "execution_count": 5,
     "metadata": {},
     "output_type": "execute_result"
    }
   ],
   "source": [
    "print(probe_df.shape)\n",
    "probe_df.head()"
   ]
  },
  {
   "cell_type": "markdown",
   "metadata": {},
   "source": [
    "## Exploration "
   ]
  },
  {
   "cell_type": "markdown",
   "metadata": {},
   "source": [
    "### Check rating distribution "
   ]
  },
  {
   "cell_type": "code",
   "execution_count": 6,
   "metadata": {},
   "outputs": [
    {
     "data": {
      "image/png": "[encoded data removed]",
      "text/plain": [
       "<Figure size 432x288 with 1 Axes>"
      ]
     },
     "metadata": {
      "needs_background": "light"
     },
     "output_type": "display_data"
    }
   ],
   "source": [
    "data_df.rating.hist()\n",
    "plt.xlabel('rating')\n",
    "plt.ylabel('user count')\n",
    "plt.show()"
   ]
  },
  {
   "cell_type": "markdown",
   "metadata": {},
   "source": [
    "### check amount of movies per user (select few to speed up)"
   ]
  },
  {
   "cell_type": "code",
   "execution_count": 7,
   "metadata": {},
   "outputs": [],
   "source": [
    "sample_df = data_df.loc[:1e6, ['user_id', 'movie_id']]"
   ]
  },
  {
   "cell_type": "code",
   "execution_count": 8,
   "metadata": {},
   "outputs": [],
   "source": [
    "movies_per_user = sample_df.groupby('user_id').count()\n",
    "movies_per_user.columns = ['n_movies']"
   ]
  },
  {
   "cell_type": "code",
   "execution_count": 9,
   "metadata": {},
   "outputs": [
    {
     "data": {
      "text/html": [
       "<div>\n",
       "<style scoped>\n",
       "    .dataframe tbody tr th:only-of-type {\n",
       "        vertical-align: middle;\n",
       "    }\n",
       "\n",
       "    .dataframe tbody tr th {\n",
       "        vertical-align: top;\n",
       "    }\n",
       "\n",
       "    .dataframe thead th {\n",
       "        text-align: right;\n",
       "    }\n",
       "</style>\n",
       "<table border=\"1\" class=\"dataframe\">\n",
       "  <thead>\n",
       "    <tr style=\"text-align: right;\">\n",
       "      <th></th>\n",
       "      <th>n_movies</th>\n",
       "    </tr>\n",
       "  </thead>\n",
       "  <tbody>\n",
       "    <tr>\n",
       "      <th>count</th>\n",
       "      <td>271730.000000</td>\n",
       "    </tr>\n",
       "    <tr>\n",
       "      <th>mean</th>\n",
       "      <td>3.680127</td>\n",
       "    </tr>\n",
       "    <tr>\n",
       "      <th>std</th>\n",
       "      <td>3.918240</td>\n",
       "    </tr>\n",
       "    <tr>\n",
       "      <th>min</th>\n",
       "      <td>1.000000</td>\n",
       "    </tr>\n",
       "    <tr>\n",
       "      <th>25%</th>\n",
       "      <td>1.000000</td>\n",
       "    </tr>\n",
       "    <tr>\n",
       "      <th>50%</th>\n",
       "      <td>2.000000</td>\n",
       "    </tr>\n",
       "    <tr>\n",
       "      <th>75%</th>\n",
       "      <td>5.000000</td>\n",
       "    </tr>\n",
       "    <tr>\n",
       "      <th>max</th>\n",
       "      <td>235.000000</td>\n",
       "    </tr>\n",
       "  </tbody>\n",
       "</table>\n",
       "</div>"
      ],
      "text/plain": [
       "            n_movies\n",
       "count  271730.000000\n",
       "mean        3.680127\n",
       "std         3.918240\n",
       "min         1.000000\n",
       "25%         1.000000\n",
       "50%         2.000000\n",
       "75%         5.000000\n",
       "max       235.000000"
      ]
     },
     "execution_count": 9,
     "metadata": {},
     "output_type": "execute_result"
    }
   ],
   "source": [
    "movies_per_user.describe()"
   ]
  },
  {
   "cell_type": "code",
   "execution_count": 10,
   "metadata": {},
   "outputs": [
    {
     "data": {
      "image/png": "[encoded data removed]",
      "text/plain": [
       "<Figure size 432x288 with 1 Axes>"
      ]
     },
     "metadata": {
      "needs_background": "light"
     },
     "output_type": "display_data"
    }
   ],
   "source": [
    "plt.hist(movies_per_user.values, range=(0,20), bins=20)\n",
    "plt.xlabel('movies per user')\n",
    "plt.ylabel('user count')\n",
    "plt.show()"
   ]
  },
  {
   "cell_type": "markdown",
   "metadata": {},
   "source": [
    "### check amount of users per movie "
   ]
  },
  {
   "cell_type": "code",
   "execution_count": 11,
   "metadata": {},
   "outputs": [
    {
     "data": {
      "text/html": [
       "<div>\n",
       "<style scoped>\n",
       "    .dataframe tbody tr th:only-of-type {\n",
       "        vertical-align: middle;\n",
       "    }\n",
       "\n",
       "    .dataframe tbody tr th {\n",
       "        vertical-align: top;\n",
       "    }\n",
       "\n",
       "    .dataframe thead th {\n",
       "        text-align: right;\n",
       "    }\n",
       "</style>\n",
       "<table border=\"1\" class=\"dataframe\">\n",
       "  <thead>\n",
       "    <tr style=\"text-align: right;\">\n",
       "      <th></th>\n",
       "      <th>n_users</th>\n",
       "    </tr>\n",
       "  </thead>\n",
       "  <tbody>\n",
       "    <tr>\n",
       "      <th>count</th>\n",
       "      <td>241.000000</td>\n",
       "    </tr>\n",
       "    <tr>\n",
       "      <th>mean</th>\n",
       "      <td>4149.381743</td>\n",
       "    </tr>\n",
       "    <tr>\n",
       "      <th>std</th>\n",
       "      <td>13162.642081</td>\n",
       "    </tr>\n",
       "    <tr>\n",
       "      <th>min</th>\n",
       "      <td>55.000000</td>\n",
       "    </tr>\n",
       "    <tr>\n",
       "      <th>25%</th>\n",
       "      <td>186.000000</td>\n",
       "    </tr>\n",
       "    <tr>\n",
       "      <th>50%</th>\n",
       "      <td>456.000000</td>\n",
       "    </tr>\n",
       "    <tr>\n",
       "      <th>75%</th>\n",
       "      <td>2269.000000</td>\n",
       "    </tr>\n",
       "    <tr>\n",
       "      <th>max</th>\n",
       "      <td>114055.000000</td>\n",
       "    </tr>\n",
       "  </tbody>\n",
       "</table>\n",
       "</div>"
      ],
      "text/plain": [
       "             n_users\n",
       "count     241.000000\n",
       "mean     4149.381743\n",
       "std     13162.642081\n",
       "min        55.000000\n",
       "25%       186.000000\n",
       "50%       456.000000\n",
       "75%      2269.000000\n",
       "max    114055.000000"
      ]
     },
     "execution_count": 11,
     "metadata": {},
     "output_type": "execute_result"
    }
   ],
   "source": [
    "users_per_movie = sample_df.groupby('movie_id').count()\n",
    "users_per_movie.columns = ['n_users']\n",
    "users_per_movie.describe()"
   ]
  },
  {
   "cell_type": "code",
   "execution_count": 12,
   "metadata": {},
   "outputs": [
    {
     "data": {
      "image/png": "[encoded data removed]",
      "text/plain": [
       "<Figure size 432x288 with 1 Axes>"
      ]
     },
     "metadata": {
      "needs_background": "light"
     },
     "output_type": "display_data"
    }
   ],
   "source": [
    "plt.hist(users_per_movie.values, bins=100, range=(0,20000))\n",
    "plt.xlabel('users per movie')\n",
    "plt.ylabel('movie count')\n",
    "plt.show()"
   ]
  },
  {
   "cell_type": "markdown",
   "metadata": {},
   "source": [
    "### QUESTIONS?"
   ]
  },
  {
   "cell_type": "markdown",
   "metadata": {},
   "source": [
    "## preprocessing "
   ]
  },
  {
   "cell_type": "code",
   "execution_count": 13,
   "metadata": {
    "colab": {},
    "colab_type": "code",
    "id": "cYapIv52E5FU"
   },
   "outputs": [],
   "source": [
    "X_train, X_dev, y_train, y_dev = train_test_split(data_df.drop('rating', axis = 1), data_df.rating, test_size = 0.3, random_state = 77)"
   ]
  },
  {
   "cell_type": "markdown",
   "metadata": {
    "colab_type": "text",
    "id": "8IsbiIxhE5FY"
   },
   "source": [
    "#### we use all the user and movie IDs only to make sure the transformation encodes all movies and users, we don't use the ratings from this set "
   ]
  },
  {
   "cell_type": "markdown",
   "metadata": {},
   "source": [
    "#### here we create a new \"transformed\" column instead of the id, which is ordnial - the movies get numbers from 0 to num_of_movies and same for the users"
   ]
  },
  {
   "cell_type": "code",
   "execution_count": 14,
   "metadata": {
    "colab": {},
    "colab_type": "code",
    "id": "RSSGKskyE5Fa"
   },
   "outputs": [],
   "source": [
    "#this cell creates dictionaries which help with changing the unique ID's into series of int's. \n",
    "#This is neccessary for embedding layers in keras (so use the transformed columns later on), \n",
    "#especially if you only use part of the data.\n",
    "\n",
    "list_unique_user = list(set(data_df.user_id).union(set(probe_df.user_id)))\n",
    "transforming_user = {v:k for k,v in zip(range(len(list_unique_user)), list_unique_user)}\n",
    "inv_transforming_user = {k:v for k,v in zip(range(len(list_unique_user)), list_unique_user)}\n",
    "\n",
    "list_unique_movie = list(set(data_df.movie_id).union(set(probe_df.movie_id)))\n",
    "transforming_movie = {v:k for k,v in zip(range(len(list_unique_movie)), list_unique_movie)}\n",
    "inv_transforming_movie = {k:v for k,v in zip(range(len(list_unique_movie)), list_unique_movie)}\n"
   ]
  },
  {
   "cell_type": "code",
   "execution_count": 15,
   "metadata": {
    "colab": {},
    "colab_type": "code",
    "id": "RSSGKskyE5Fa"
   },
   "outputs": [],
   "source": [
    "X_train['user_id_transformed'] = X_train['user_id'].apply(lambda x: transforming_user[x])\n",
    "X_train['movie_id_transformed'] = X_train['movie_id'].apply(lambda x: transforming_movie[x])\n",
    "\n",
    "X_dev['user_id_transformed'] = X_dev['user_id'].apply(lambda x: transforming_user[x])\n",
    "X_dev['movie_id_transformed'] = X_dev['movie_id'].apply(lambda x: transforming_movie[x])"
   ]
  },
  {
   "cell_type": "code",
   "execution_count": 16,
   "metadata": {
    "colab": {
     "base_uri": "https://localhost:8080/",
     "height": 34
    },
    "colab_type": "code",
    "id": "Zx0a7bSeE5Fi",
    "outputId": "ef818fdd-8d09-45a9-ec34-e3bb0eef5bf3"
   },
   "outputs": [
    {
     "data": {
      "text/plain": [
       "480188"
      ]
     },
     "execution_count": 16,
     "metadata": {},
     "output_type": "execute_result"
    }
   ],
   "source": [
    "num_of_users = transforming_user[list(transforming_user.keys())[-1]]\n",
    "num_of_users"
   ]
  },
  {
   "cell_type": "code",
   "execution_count": 17,
   "metadata": {
    "colab": {
     "base_uri": "https://localhost:8080/",
     "height": 34
    },
    "colab_type": "code",
    "id": "9GF0Hj6bE5Fo",
    "outputId": "e4de0856-02a5-4515-8b8f-b4640cae597d"
   },
   "outputs": [
    {
     "data": {
      "text/plain": [
       "17769"
      ]
     },
     "execution_count": 17,
     "metadata": {},
     "output_type": "execute_result"
    }
   ],
   "source": [
    "num_of_movies = transforming_movie[list(transforming_movie.keys())[-1]]\n",
    "num_of_movies"
   ]
  },
  {
   "cell_type": "code",
   "execution_count": 18,
   "metadata": {
    "colab": {
     "base_uri": "https://localhost:8080/",
     "height": 204
    },
    "colab_type": "code",
    "id": "L7oqFi-0E5Ft",
    "outputId": "c0a8e36d-acf6-4652-aca8-49d728ea6546"
   },
   "outputs": [
    {
     "data": {
      "text/html": [
       "<div>\n",
       "<style scoped>\n",
       "    .dataframe tbody tr th:only-of-type {\n",
       "        vertical-align: middle;\n",
       "    }\n",
       "\n",
       "    .dataframe tbody tr th {\n",
       "        vertical-align: top;\n",
       "    }\n",
       "\n",
       "    .dataframe thead th {\n",
       "        text-align: right;\n",
       "    }\n",
       "</style>\n",
       "<table border=\"1\" class=\"dataframe\">\n",
       "  <thead>\n",
       "    <tr style=\"text-align: right;\">\n",
       "      <th></th>\n",
       "      <th>user_id</th>\n",
       "      <th>movie_id</th>\n",
       "      <th>user_id_transformed</th>\n",
       "      <th>movie_id_transformed</th>\n",
       "    </tr>\n",
       "  </thead>\n",
       "  <tbody>\n",
       "    <tr>\n",
       "      <th>9096243</th>\n",
       "      <td>2480985</td>\n",
       "      <td>1853</td>\n",
       "      <td>139369</td>\n",
       "      <td>1852</td>\n",
       "    </tr>\n",
       "    <tr>\n",
       "      <th>53603143</th>\n",
       "      <td>1075324</td>\n",
       "      <td>9954</td>\n",
       "      <td>295385</td>\n",
       "      <td>9953</td>\n",
       "    </tr>\n",
       "    <tr>\n",
       "      <th>13434724</th>\n",
       "      <td>906893</td>\n",
       "      <td>2650</td>\n",
       "      <td>264924</td>\n",
       "      <td>2649</td>\n",
       "    </tr>\n",
       "    <tr>\n",
       "      <th>63016666</th>\n",
       "      <td>257017</td>\n",
       "      <td>11677</td>\n",
       "      <td>92983</td>\n",
       "      <td>11676</td>\n",
       "    </tr>\n",
       "    <tr>\n",
       "      <th>60170577</th>\n",
       "      <td>1721379</td>\n",
       "      <td>11173</td>\n",
       "      <td>412397</td>\n",
       "      <td>11172</td>\n",
       "    </tr>\n",
       "  </tbody>\n",
       "</table>\n",
       "</div>"
      ],
      "text/plain": [
       "          user_id  movie_id  user_id_transformed  movie_id_transformed\n",
       "9096243   2480985      1853               139369                  1852\n",
       "53603143  1075324      9954               295385                  9953\n",
       "13434724   906893      2650               264924                  2649\n",
       "63016666   257017     11677                92983                 11676\n",
       "60170577  1721379     11173               412397                 11172"
      ]
     },
     "execution_count": 18,
     "metadata": {},
     "output_type": "execute_result"
    }
   ],
   "source": [
    "X_train.head()"
   ]
  },
  {
   "cell_type": "code",
   "execution_count": 19,
   "metadata": {
    "colab": {
     "base_uri": "https://localhost:8080/",
     "height": 119
    },
    "colab_type": "code",
    "id": "FpC-jOQgE5Fy",
    "outputId": "f16a7546-8855-478f-d356-a3485fc69388"
   },
   "outputs": [
    {
     "data": {
      "text/plain": [
       "85733865    3\n",
       "19059034    4\n",
       "18459054    4\n",
       "59155026    4\n",
       "76136516    2\n",
       "Name: rating, dtype: int64"
      ]
     },
     "execution_count": 19,
     "metadata": {},
     "output_type": "execute_result"
    }
   ],
   "source": [
    "y_dev.head()"
   ]
  },
  {
   "cell_type": "markdown",
   "metadata": {
    "colab_type": "text",
    "id": "nVLIM3fXE5F4"
   },
   "source": [
    "# Create Keras model using functional API for predicting user score per movie"
   ]
  },
  {
   "cell_type": "code",
   "execution_count": 20,
   "metadata": {
    "colab": {},
    "colab_type": "code",
    "id": "H1-38u4sE5F5"
   },
   "outputs": [],
   "source": [
    "from keras.layers import Input, Embedding, LSTM, Dense\n",
    "from keras.models import Model\n",
    "from keras import regularizers\n",
    "from keras.optimizers import Adam \n",
    "from keras.layers import LeakyReLU\n",
    "from keras.utils import plot_model\n",
    "from keras.callbacks import EarlyStopping\n",
    "from IPython.display import display, Image"
   ]
  },
  {
   "cell_type": "code",
   "execution_count": 21,
   "metadata": {
    "colab": {},
    "colab_type": "code",
    "id": "y6lK2esNE5F-"
   },
   "outputs": [],
   "source": [
    "batch_size = 2**19"
   ]
  },
  {
   "cell_type": "code",
   "execution_count": 22,
   "metadata": {
    "colab": {
     "base_uri": "https://localhost:8080/",
     "height": 34
    },
    "colab_type": "code",
    "id": "WBLGtJgyE5GD",
    "outputId": "dd0b6eb8-e62f-4990-d5fc-f4f46f93ef94"
   },
   "outputs": [
    {
     "data": {
      "text/plain": [
       "0.0025199922438410103"
      ]
     },
     "execution_count": 22,
     "metadata": {},
     "output_type": "execute_result"
    }
   ],
   "source": [
    "batches_per_epoch = X_train.shape[0]/batch_size\n",
    "lr_decay = (1./0.75 -1)/batches_per_epoch\n",
    "lr_decay"
   ]
  },
  {
   "cell_type": "code",
   "execution_count": 23,
   "metadata": {
    "colab": {
     "base_uri": "https://localhost:8080/",
     "height": 173
    },
    "colab_type": "code",
    "id": "uuEG6c56E5GI",
    "outputId": "4127f0cf-78ea-470b-e3b2-0923fd1e931c"
   },
   "outputs": [
    {
     "name": "stdout",
     "output_type": "stream",
     "text": [
      "WARNING:tensorflow:From /home/noamzbr/anaconda3/envs/tf/lib/python3.7/site-packages/keras/backend/tensorflow_backend.py:517: The name tf.placeholder is deprecated. Please use tf.compat.v1.placeholder instead.\n",
      "\n",
      "WARNING:tensorflow:From /home/noamzbr/anaconda3/envs/tf/lib/python3.7/site-packages/keras/backend/tensorflow_backend.py:4138: The name tf.random_uniform is deprecated. Please use tf.random.uniform instead.\n",
      "\n",
      "WARNING:tensorflow:From /home/noamzbr/anaconda3/envs/tf/lib/python3.7/site-packages/keras/backend/tensorflow_backend.py:74: The name tf.get_default_graph is deprecated. Please use tf.compat.v1.get_default_graph instead.\n",
      "\n",
      "WARNING:tensorflow:From /home/noamzbr/anaconda3/envs/tf/lib/python3.7/site-packages/keras/optimizers.py:790: The name tf.train.Optimizer is deprecated. Please use tf.compat.v1.train.Optimizer instead.\n",
      "\n"
     ]
    }
   ],
   "source": [
    "# Model\n",
    "movie_id_layer = Input(shape=(1,), dtype='int32', name='movie_id')\n",
    "\n",
    "# ** the +1 in dim is because we need to encode the last valid value as well\n",
    "movie_embedding_layer = Embedding(input_dim=num_of_movies+1, output_dim=60, \n",
    "                                  input_length=1,\n",
    "                                  name='movie_embedding',\n",
    "                                 )(movie_id_layer)\n",
    "\n",
    "user_id_layer = Input(shape=(1,), dtype='int32', name='user_id')\n",
    "\n",
    "user_embedding_layer = Embedding(input_dim=num_of_users+1, output_dim=20, \n",
    "                                 input_length=1,\n",
    "                                 name='user_embedding',\n",
    "                                )(user_id_layer)\n",
    "\n",
    "concat_layer = keras.layers.Concatenate(axis=-1, name='concat_layer')([movie_embedding_layer, user_embedding_layer])\n",
    "\n",
    "concat_layer_flat = keras.layers.Flatten(name='flatten')(concat_layer)\n",
    "\n",
    "dense_1 = Dense(1000 ,)(concat_layer_flat)\n",
    "dense_1_activated = LeakyReLU()(dense_1)\n",
    "\n",
    "dense_2 = Dense(1000 ,)(dense_1_activated)\n",
    "dense_2_activated = LeakyReLU()(dense_2)\n",
    "\n",
    "dense_3 = Dense(10)(dense_2_activated)\n",
    "dense_3_activated = LeakyReLU()(dense_3)\n",
    "\n",
    "output_layer = Dense(1, name='output')(dense_3_activated)\n",
    "\n",
    "model = Model(inputs=[movie_id_layer, user_id_layer], outputs=output_layer)\n",
    "\n",
    "model.compile(loss= \"mean_squared_error\" , optimizer=Adam(lr=0.004, decay=lr_decay), metrics=[\"mean_squared_error\"])"
   ]
  },
  {
   "cell_type": "code",
   "execution_count": 24,
   "metadata": {},
   "outputs": [
    {
     "data": {
      "image/png": "[encoded data removed]",
      "text/plain": [
       "<IPython.core.display.Image object>"
      ]
     },
     "metadata": {},
     "output_type": "display_data"
    }
   ],
   "source": [
    "plot_model(model, to_file='model.png', show_shapes=False)\n",
    "display(Image(filename='model.png'))"
   ]
  },
  {
   "cell_type": "markdown",
   "metadata": {},
   "source": [
    "### QUESTIONS?"
   ]
  },
  {
   "cell_type": "code",
   "execution_count": 25,
   "metadata": {},
   "outputs": [
    {
     "name": "stdout",
     "output_type": "stream",
     "text": [
      "__________________________________________________________________________________________________\n",
      "Layer (type)                    Output Shape         Param #     Connected to                     \n",
      "==================================================================================================\n",
      "movie_id (InputLayer)           (None, 1)            0                                            \n",
      "__________________________________________________________________________________________________\n",
      "user_id (InputLayer)            (None, 1)            0                                            \n",
      "__________________________________________________________________________________________________\n",
      "movie_embedding (Embedding)     (None, 1, 60)        1066200     movie_id[0][0]                   \n",
      "__________________________________________________________________________________________________\n",
      "user_embedding (Embedding)      (None, 1, 20)        9603780     user_id[0][0]                    \n",
      "__________________________________________________________________________________________________\n",
      "concat_layer (Concatenate)      (None, 1, 80)        0           movie_embedding[0][0]            \n",
      "                                                                 user_embedding[0][0]             \n",
      "__________________________________________________________________________________________________\n",
      "flatten (Flatten)               (None, 80)           0           concat_layer[0][0]               \n",
      "__________________________________________________________________________________________________\n",
      "dense_1 (Dense)                 (None, 1000)         81000       flatten[0][0]                    \n",
      "__________________________________________________________________________________________________\n",
      "leaky_re_lu_1 (LeakyReLU)       (None, 1000)         0           dense_1[0][0]                    \n",
      "__________________________________________________________________________________________________\n",
      "dense_2 (Dense)                 (None, 1000)         1001000     leaky_re_lu_1[0][0]              \n",
      "__________________________________________________________________________________________________\n",
      "leaky_re_lu_2 (LeakyReLU)       (None, 1000)         0           dense_2[0][0]                    \n",
      "__________________________________________________________________________________________________\n",
      "dense_3 (Dense)                 (None, 10)           10010       leaky_re_lu_2[0][0]              \n",
      "__________________________________________________________________________________________________\n",
      "leaky_re_lu_3 (LeakyReLU)       (None, 10)           0           dense_3[0][0]                    \n",
      "__________________________________________________________________________________________________\n",
      "output (Dense)                  (None, 1)            11          leaky_re_lu_3[0][0]              \n",
      "==================================================================================================\n",
      "Total params: 11,762,001\n",
      "Trainable params: 11,762,001\n",
      "Non-trainable params: 0\n",
      "__________________________________________________________________________________________________\n"
     ]
    }
   ],
   "source": [
    "model.summary()"
   ]
  },
  {
   "cell_type": "markdown",
   "metadata": {},
   "source": [
    "## fit "
   ]
  },
  {
   "cell_type": "code",
   "execution_count": 26,
   "metadata": {},
   "outputs": [],
   "source": [
    "es = EarlyStopping(monitor='val_loss', mode='min', verbose=0, patience=50, restore_best_weights=True)"
   ]
  },
  {
   "cell_type": "code",
   "execution_count": null,
   "metadata": {
    "colab": {
     "base_uri": "https://localhost:8080/",
     "height": 1000
    },
    "colab_type": "code",
    "id": "LKL1W78cE5GV",
    "outputId": "361154ef-0749-4c6a-dd7a-461c43f43d8d"
   },
   "outputs": [
    {
     "name": "stdout",
     "output_type": "stream",
     "text": [
      "WARNING:tensorflow:From /usr/local/lib/python3.6/dist-packages/keras/backend/tensorflow_backend.py:1033: The name tf.assign_add is deprecated. Please use tf.compat.v1.assign_add instead.\n",
      "\n",
      "WARNING:tensorflow:From /usr/local/lib/python3.6/dist-packages/keras/backend/tensorflow_backend.py:1020: The name tf.assign is deprecated. Please use tf.compat.v1.assign instead.\n",
      "\n",
      "WARNING:tensorflow:From /usr/local/lib/python3.6/dist-packages/keras/backend/tensorflow_backend.py:3005: The name tf.Session is deprecated. Please use tf.compat.v1.Session instead.\n",
      "\n",
      "Train on 69350478 samples, validate on 29721634 samples\n",
      "Epoch 1/100\n",
      "WARNING:tensorflow:From /usr/local/lib/python3.6/dist-packages/keras/backend/tensorflow_backend.py:190: The name tf.get_default_session is deprecated. Please use tf.compat.v1.get_default_session instead.\n",
      "\n",
      "WARNING:tensorflow:From /usr/local/lib/python3.6/dist-packages/keras/backend/tensorflow_backend.py:197: The name tf.ConfigProto is deprecated. Please use tf.compat.v1.ConfigProto instead.\n",
      "\n",
      "WARNING:tensorflow:From /usr/local/lib/python3.6/dist-packages/keras/backend/tensorflow_backend.py:207: The name tf.global_variables is deprecated. Please use tf.compat.v1.global_variables instead.\n",
      "\n",
      "WARNING:tensorflow:From /usr/local/lib/python3.6/dist-packages/keras/backend/tensorflow_backend.py:216: The name tf.is_variable_initialized is deprecated. Please use tf.compat.v1.is_variable_initialized instead.\n",
      "\n",
      "WARNING:tensorflow:From /usr/local/lib/python3.6/dist-packages/keras/backend/tensorflow_backend.py:223: The name tf.variables_initializer is deprecated. Please use tf.compat.v1.variables_initializer instead.\n",
      "\n",
      "69350478/69350478 [==============================] - 57s 1us/step - loss: 1.6289 - mean_squared_error: 1.6289 - val_loss: 0.8572 - val_mean_squared_error: 0.8572\n",
      "Epoch 2/100\n",
      "69350478/69350478 [==============================] - 47s 1us/step - loss: 0.8513 - mean_squared_error: 0.8513 - val_loss: 0.8531 - val_mean_squared_error: 0.8531\n",
      "Epoch 3/100\n",
      "69350478/69350478 [==============================] - 47s 1us/step - loss: 0.8458 - mean_squared_error: 0.8458 - val_loss: 0.8498 - val_mean_squared_error: 0.8498\n",
      "Epoch 4/100\n",
      "69350478/69350478 [==============================] - 47s 1us/step - loss: 0.8378 - mean_squared_error: 0.8378 - val_loss: 0.8361 - val_mean_squared_error: 0.8361\n",
      "Epoch 5/100\n",
      "69350478/69350478 [==============================] - 47s 1us/step - loss: 0.8058 - mean_squared_error: 0.8058 - val_loss: 0.7993 - val_mean_squared_error: 0.7993\n",
      "Epoch 6/100\n",
      "69350478/69350478 [==============================] - 47s 1us/step - loss: 0.7793 - mean_squared_error: 0.7793 - val_loss: 0.7879 - val_mean_squared_error: 0.7879\n",
      "Epoch 7/100\n",
      "69350478/69350478 [==============================] - 48s 1us/step - loss: 0.7684 - mean_squared_error: 0.7684 - val_loss: 0.7829 - val_mean_squared_error: 0.7829\n",
      "Epoch 8/100\n",
      "69350478/69350478 [==============================] - 48s 1us/step - loss: 0.7608 - mean_squared_error: 0.7608 - val_loss: 0.7789 - val_mean_squared_error: 0.7789\n",
      "Epoch 9/100\n",
      "69350478/69350478 [==============================] - 47s 1us/step - loss: 0.7532 - mean_squared_error: 0.7532 - val_loss: 0.7749 - val_mean_squared_error: 0.7749\n",
      "Epoch 10/100\n",
      "69350478/69350478 [==============================] - 47s 1us/step - loss: 0.7449 - mean_squared_error: 0.7449 - val_loss: 0.7704 - val_mean_squared_error: 0.7704\n",
      "Epoch 11/100\n",
      "69350478/69350478 [==============================] - 47s 1us/step - loss: 0.7365 - mean_squared_error: 0.7365 - val_loss: 0.7668 - val_mean_squared_error: 0.7668\n",
      "Epoch 12/100\n",
      "69350478/69350478 [==============================] - 47s 1us/step - loss: 0.7292 - mean_squared_error: 0.7292 - val_loss: 0.7639 - val_mean_squared_error: 0.7639\n",
      "Epoch 13/100\n",
      "69350478/69350478 [==============================] - 47s 1us/step - loss: 0.7229 - mean_squared_error: 0.7229 - val_loss: 0.7618 - val_mean_squared_error: 0.7618\n",
      "Epoch 14/100\n",
      "69350478/69350478 [==============================] - 47s 1us/step - loss: 0.7173 - mean_squared_error: 0.7173 - val_loss: 0.7601 - val_mean_squared_error: 0.7601\n",
      "Epoch 15/100\n",
      "69350478/69350478 [==============================] - 47s 1us/step - loss: 0.7120 - mean_squared_error: 0.7120 - val_loss: 0.7588 - val_mean_squared_error: 0.7588\n",
      "Epoch 16/100\n",
      "69350478/69350478 [==============================] - 47s 1us/step - loss: 0.7068 - mean_squared_error: 0.7068 - val_loss: 0.7577 - val_mean_squared_error: 0.7577\n",
      "Epoch 17/100\n",
      "69350478/69350478 [==============================] - 47s 1us/step - loss: 0.7017 - mean_squared_error: 0.7017 - val_loss: 0.7567 - val_mean_squared_error: 0.7567\n",
      "Epoch 18/100\n",
      "69350478/69350478 [==============================] - 47s 1us/step - loss: 0.6965 - mean_squared_error: 0.6965 - val_loss: 0.7561 - val_mean_squared_error: 0.7561\n",
      "Epoch 19/100\n",
      "69350478/69350478 [==============================] - 47s 1us/step - loss: 0.6914 - mean_squared_error: 0.6914 - val_loss: 0.7552 - val_mean_squared_error: 0.7552\n",
      "Epoch 20/100\n",
      "69350478/69350478 [==============================] - 47s 1us/step - loss: 0.6862 - mean_squared_error: 0.6862 - val_loss: 0.7546 - val_mean_squared_error: 0.7546\n",
      "Epoch 21/100\n",
      "69350478/69350478 [==============================] - 47s 1us/step - loss: 0.6810 - mean_squared_error: 0.6810 - val_loss: 0.7540 - val_mean_squared_error: 0.7540\n",
      "Epoch 22/100\n",
      "69350478/69350478 [==============================] - 47s 1us/step - loss: 0.6757 - mean_squared_error: 0.6757 - val_loss: 0.7532 - val_mean_squared_error: 0.7532\n",
      "Epoch 23/100\n",
      "69350478/69350478 [==============================] - 47s 1us/step - loss: 0.6705 - mean_squared_error: 0.6705 - val_loss: 0.7526 - val_mean_squared_error: 0.7526\n",
      "Epoch 24/100\n",
      "69350478/69350478 [==============================] - 47s 1us/step - loss: 0.6655 - mean_squared_error: 0.6655 - val_loss: 0.7519 - val_mean_squared_error: 0.7519\n",
      "Epoch 25/100\n",
      "69350478/69350478 [==============================] - 47s 1us/step - loss: 0.6606 - mean_squared_error: 0.6606 - val_loss: 0.7513 - val_mean_squared_error: 0.7513\n",
      "Epoch 26/100\n",
      "69350478/69350478 [==============================] - 47s 1us/step - loss: 0.6559 - mean_squared_error: 0.6559 - val_loss: 0.7509 - val_mean_squared_error: 0.7509\n",
      "Epoch 27/100\n",
      "69350478/69350478 [==============================] - 48s 1us/step - loss: 0.6515 - mean_squared_error: 0.6515 - val_loss: 0.7504 - val_mean_squared_error: 0.7504\n",
      "Epoch 28/100\n",
      "69350478/69350478 [==============================] - 47s 1us/step - loss: 0.6473 - mean_squared_error: 0.6473 - val_loss: 0.7501 - val_mean_squared_error: 0.7501\n",
      "Epoch 29/100\n",
      "69350478/69350478 [==============================] - 48s 1us/step - loss: 0.6434 - mean_squared_error: 0.6434 - val_loss: 0.7497 - val_mean_squared_error: 0.7497\n",
      "Epoch 30/100\n",
      "69350478/69350478 [==============================] - 48s 1us/step - loss: 0.6397 - mean_squared_error: 0.6397 - val_loss: 0.7500 - val_mean_squared_error: 0.7500\n",
      "Epoch 31/100\n",
      "69350478/69350478 [==============================] - 48s 1us/step - loss: 0.6363 - mean_squared_error: 0.6363 - val_loss: 0.7498 - val_mean_squared_error: 0.7498\n",
      "Epoch 32/100\n",
      "69350478/69350478 [==============================] - 47s 1us/step - loss: 0.6330 - mean_squared_error: 0.6330 - val_loss: 0.7497 - val_mean_squared_error: 0.7497\n",
      "Epoch 33/100\n",
      "69350478/69350478 [==============================] - 47s 1us/step - loss: 0.6300 - mean_squared_error: 0.6300 - val_loss: 0.7498 - val_mean_squared_error: 0.7498\n",
      "Epoch 34/100\n",
      "69350478/69350478 [==============================] - 47s 1us/step - loss: 0.6271 - mean_squared_error: 0.6271 - val_loss: 0.7499 - val_mean_squared_error: 0.7499\n",
      "Epoch 35/100\n",
      "69350478/69350478 [==============================] - 48s 1us/step - loss: 0.6244 - mean_squared_error: 0.6244 - val_loss: 0.7502 - val_mean_squared_error: 0.7502\n",
      "Epoch 36/100\n",
      "69350478/69350478 [==============================] - 47s 1us/step - loss: 0.6219 - mean_squared_error: 0.6219 - val_loss: 0.7506 - val_mean_squared_error: 0.7506\n",
      "Epoch 37/100\n",
      "69350478/69350478 [==============================] - 46s 1us/step - loss: 0.6195 - mean_squared_error: 0.6195 - val_loss: 0.7508 - val_mean_squared_error: 0.7508\n",
      "Epoch 38/100\n",
      "69350478/69350478 [==============================] - 46s 1us/step - loss: 0.6173 - mean_squared_error: 0.6173 - val_loss: 0.7511 - val_mean_squared_error: 0.7511\n",
      "Epoch 39/100\n",
      "69350478/69350478 [==============================] - 46s 1us/step - loss: 0.6151 - mean_squared_error: 0.6151 - val_loss: 0.7514 - val_mean_squared_error: 0.7514\n",
      "Epoch 40/100\n",
      "69350478/69350478 [==============================] - 46s 1us/step - loss: 0.6131 - mean_squared_error: 0.6131 - val_loss: 0.7518 - val_mean_squared_error: 0.7518\n",
      "Epoch 41/100\n",
      "69350478/69350478 [==============================] - 46s 1us/step - loss: 0.6111 - mean_squared_error: 0.6111 - val_loss: 0.7523 - val_mean_squared_error: 0.7523\n",
      "Epoch 42/100\n",
      "69350478/69350478 [==============================] - 46s 1us/step - loss: 0.6093 - mean_squared_error: 0.6093 - val_loss: 0.7527 - val_mean_squared_error: 0.7527\n",
      "Epoch 43/100\n",
      "69350478/69350478 [==============================] - 45s 1us/step - loss: 0.6076 - mean_squared_error: 0.6076 - val_loss: 0.7530 - val_mean_squared_error: 0.7530\n",
      "Epoch 44/100\n",
      "69350478/69350478 [==============================] - 45s 1us/step - loss: 0.6059 - mean_squared_error: 0.6059 - val_loss: 0.7534 - val_mean_squared_error: 0.7534\n",
      "Epoch 45/100\n",
      "69350478/69350478 [==============================] - 45s 1us/step - loss: 0.6043 - mean_squared_error: 0.6043 - val_loss: 0.7540 - val_mean_squared_error: 0.7540\n",
      "Epoch 46/100\n",
      "69350478/69350478 [==============================] - 45s 1us/step - loss: 0.6028 - mean_squared_error: 0.6028 - val_loss: 0.7543 - val_mean_squared_error: 0.7543\n",
      "Epoch 47/100\n",
      "69350478/69350478 [==============================] - 46s 1us/step - loss: 0.6014 - mean_squared_error: 0.6014 - val_loss: 0.7547 - val_mean_squared_error: 0.7547\n",
      "Epoch 48/100\n",
      "69350478/69350478 [==============================] - 45s 1us/step - loss: 0.6000 - mean_squared_error: 0.6000 - val_loss: 0.7551 - val_mean_squared_error: 0.7551\n",
      "Epoch 49/100\n",
      "69350478/69350478 [==============================] - 45s 1us/step - loss: 0.5987 - mean_squared_error: 0.5987 - val_loss: 0.7555 - val_mean_squared_error: 0.7555\n",
      "Epoch 50/100\n",
      "69350478/69350478 [==============================] - 46s 1us/step - loss: 0.5974 - mean_squared_error: 0.5974 - val_loss: 0.7558 - val_mean_squared_error: 0.7558\n",
      "Epoch 51/100\n",
      "69350478/69350478 [==============================] - 47s 1us/step - loss: 0.5962 - mean_squared_error: 0.5962 - val_loss: 0.7564 - val_mean_squared_error: 0.7564\n",
      "Epoch 52/100\n",
      "69350478/69350478 [==============================] - 48s 1us/step - loss: 0.5951 - mean_squared_error: 0.5951 - val_loss: 0.7567 - val_mean_squared_error: 0.7567\n",
      "Epoch 53/100\n",
      "69350478/69350478 [==============================] - 48s 1us/step - loss: 0.5939 - mean_squared_error: 0.5939 - val_loss: 0.7571 - val_mean_squared_error: 0.7571\n",
      "Epoch 54/100\n",
      "69350478/69350478 [==============================] - 48s 1us/step - loss: 0.5929 - mean_squared_error: 0.5929 - val_loss: 0.7577 - val_mean_squared_error: 0.7577\n",
      "Epoch 55/100\n",
      "69350478/69350478 [==============================] - 47s 1us/step - loss: 0.5918 - mean_squared_error: 0.5918 - val_loss: 0.7579 - val_mean_squared_error: 0.7579\n",
      "Epoch 56/100\n",
      "69350478/69350478 [==============================] - 47s 1us/step - loss: 0.5908 - mean_squared_error: 0.5908 - val_loss: 0.7584 - val_mean_squared_error: 0.7584\n",
      "Epoch 57/100\n",
      "69350478/69350478 [==============================] - 47s 1us/step - loss: 0.5899 - mean_squared_error: 0.5899 - val_loss: 0.7586 - val_mean_squared_error: 0.7586\n",
      "Epoch 58/100\n",
      "69350478/69350478 [==============================] - 47s 1us/step - loss: 0.5890 - mean_squared_error: 0.5890 - val_loss: 0.7589 - val_mean_squared_error: 0.7589\n",
      "Epoch 59/100\n",
      "69350478/69350478 [==============================] - 46s 1us/step - loss: 0.5881 - mean_squared_error: 0.5881 - val_loss: 0.7595 - val_mean_squared_error: 0.7595\n",
      "Epoch 60/100\n",
      "69350478/69350478 [==============================] - 45s 1us/step - loss: 0.5872 - mean_squared_error: 0.5872 - val_loss: 0.7599 - val_mean_squared_error: 0.7599\n",
      "Epoch 61/100\n",
      "69350478/69350478 [==============================] - 44s 1us/step - loss: 0.5864 - mean_squared_error: 0.5864 - val_loss: 0.7600 - val_mean_squared_error: 0.7600\n",
      "Epoch 62/100\n",
      "69350478/69350478 [==============================] - 45s 1us/step - loss: 0.5856 - mean_squared_error: 0.5856 - val_loss: 0.7604 - val_mean_squared_error: 0.7604\n",
      "Epoch 63/100\n",
      "69350478/69350478 [==============================] - 45s 1us/step - loss: 0.5848 - mean_squared_error: 0.5848 - val_loss: 0.7607 - val_mean_squared_error: 0.7607\n",
      "Epoch 64/100\n",
      "69350478/69350478 [==============================] - 45s 1us/step - loss: 0.5841 - mean_squared_error: 0.5841 - val_loss: 0.7610 - val_mean_squared_error: 0.7610\n",
      "Epoch 65/100\n",
      "69350478/69350478 [==============================] - 45s 1us/step - loss: 0.5833 - mean_squared_error: 0.5833 - val_loss: 0.7612 - val_mean_squared_error: 0.7612\n",
      "Epoch 66/100\n",
      "69350478/69350478 [==============================] - 45s 1us/step - loss: 0.5826 - mean_squared_error: 0.5826 - val_loss: 0.7615 - val_mean_squared_error: 0.7615\n",
      "Epoch 67/100\n",
      "69350478/69350478 [==============================] - 45s 1us/step - loss: 0.5820 - mean_squared_error: 0.5820 - val_loss: 0.7622 - val_mean_squared_error: 0.7622\n",
      "Epoch 68/100\n",
      "69350478/69350478 [==============================] - 44s 1us/step - loss: 0.5813 - mean_squared_error: 0.5813 - val_loss: 0.7623 - val_mean_squared_error: 0.7623\n",
      "Epoch 69/100\n",
      "69350478/69350478 [==============================] - 45s 1us/step - loss: 0.5807 - mean_squared_error: 0.5807 - val_loss: 0.7623 - val_mean_squared_error: 0.7623\n",
      "Epoch 70/100\n",
      "69350478/69350478 [==============================] - 45s 1us/step - loss: 0.5800 - mean_squared_error: 0.5800 - val_loss: 0.7628 - val_mean_squared_error: 0.7628\n",
      "Epoch 71/100\n",
      "69350478/69350478 [==============================] - 45s 1us/step - loss: 0.5794 - mean_squared_error: 0.5794 - val_loss: 0.7631 - val_mean_squared_error: 0.7631\n",
      "Epoch 72/100\n",
      "69350478/69350478 [==============================] - 45s 1us/step - loss: 0.5788 - mean_squared_error: 0.5788 - val_loss: 0.7636 - val_mean_squared_error: 0.7636\n",
      "Epoch 73/100\n",
      "69350478/69350478 [==============================] - 46s 1us/step - loss: 0.5783 - mean_squared_error: 0.5783 - val_loss: 0.7636 - val_mean_squared_error: 0.7636\n",
      "Epoch 74/100\n",
      "69350478/69350478 [==============================] - 46s 1us/step - loss: 0.5777 - mean_squared_error: 0.5777 - val_loss: 0.7640 - val_mean_squared_error: 0.7640\n",
      "Epoch 75/100\n",
      "69350478/69350478 [==============================] - 46s 1us/step - loss: 0.5772 - mean_squared_error: 0.5772 - val_loss: 0.7644 - val_mean_squared_error: 0.7644\n",
      "Epoch 76/100\n",
      "69350478/69350478 [==============================] - 46s 1us/step - loss: 0.5766 - mean_squared_error: 0.5766 - val_loss: 0.7646 - val_mean_squared_error: 0.7646\n",
      "Epoch 77/100\n",
      "69350478/69350478 [==============================] - 46s 1us/step - loss: 0.5761 - mean_squared_error: 0.5761 - val_loss: 0.7645 - val_mean_squared_error: 0.7645\n",
      "Epoch 78/100\n",
      "69350478/69350478 [==============================] - 47s 1us/step - loss: 0.5756 - mean_squared_error: 0.5756 - val_loss: 0.7651 - val_mean_squared_error: 0.7651\n",
      "Epoch 79/100\n",
      "69350478/69350478 [==============================] - 47s 1us/step - loss: 0.5751 - mean_squared_error: 0.5751 - val_loss: 0.7652 - val_mean_squared_error: 0.7652\n",
      "Epoch 80/100\n",
      "69350478/69350478 [==============================] - 48s 1us/step - loss: 0.5747 - mean_squared_error: 0.5747 - val_loss: 0.7654 - val_mean_squared_error: 0.7654\n",
      "Epoch 81/100\n",
      "69350478/69350478 [==============================] - 49s 1us/step - loss: 0.5742 - mean_squared_error: 0.5742 - val_loss: 0.7660 - val_mean_squared_error: 0.7660\n",
      "Epoch 82/100\n",
      "69350478/69350478 [==============================] - 48s 1us/step - loss: 0.5737 - mean_squared_error: 0.5737 - val_loss: 0.7659 - val_mean_squared_error: 0.7659\n",
      "Epoch 83/100\n",
      "69350478/69350478 [==============================] - 48s 1us/step - loss: 0.5733 - mean_squared_error: 0.5733 - val_loss: 0.7662 - val_mean_squared_error: 0.7662\n",
      "Epoch 84/100\n",
      "69350478/69350478 [==============================] - 47s 1us/step - loss: 0.5729 - mean_squared_error: 0.5729 - val_loss: 0.7665 - val_mean_squared_error: 0.7665\n",
      "Epoch 85/100\n",
      "69350478/69350478 [==============================] - 47s 1us/step - loss: 0.5724 - mean_squared_error: 0.5724 - val_loss: 0.7667 - val_mean_squared_error: 0.7667\n",
      "Epoch 86/100\n",
      "69350478/69350478 [==============================] - 48s 1us/step - loss: 0.5720 - mean_squared_error: 0.5720 - val_loss: 0.7670 - val_mean_squared_error: 0.7670\n",
      "Epoch 87/100\n",
      "69350478/69350478 [==============================] - 48s 1us/step - loss: 0.5716 - mean_squared_error: 0.5716 - val_loss: 0.7670 - val_mean_squared_error: 0.7670\n",
      "Epoch 88/100\n",
      "69350478/69350478 [==============================] - 47s 1us/step - loss: 0.5712 - mean_squared_error: 0.5712 - val_loss: 0.7675 - val_mean_squared_error: 0.7675\n",
      "Epoch 89/100\n",
      "69350478/69350478 [==============================] - 46s 1us/step - loss: 0.5708 - mean_squared_error: 0.5708 - val_loss: 0.7675 - val_mean_squared_error: 0.7675\n",
      "Epoch 90/100\n",
      "69350478/69350478 [==============================] - 45s 1us/step - loss: 0.5704 - mean_squared_error: 0.5704 - val_loss: 0.7678 - val_mean_squared_error: 0.7678\n",
      "Epoch 91/100\n",
      "69350478/69350478 [==============================] - 46s 1us/step - loss: 0.5701 - mean_squared_error: 0.5701 - val_loss: 0.7683 - val_mean_squared_error: 0.7683\n",
      "Epoch 92/100\n",
      "69350478/69350478 [==============================] - 46s 1us/step - loss: 0.5697 - mean_squared_error: 0.5697 - val_loss: 0.7682 - val_mean_squared_error: 0.7682\n",
      "Epoch 93/100\n",
      "69350478/69350478 [==============================] - 46s 1us/step - loss: 0.5693 - mean_squared_error: 0.5693 - val_loss: 0.7685 - val_mean_squared_error: 0.7685\n",
      "Epoch 94/100\n",
      "69350478/69350478 [==============================] - 46s 1us/step - loss: 0.5690 - mean_squared_error: 0.5690 - val_loss: 0.7687 - val_mean_squared_error: 0.7687\n",
      "Epoch 95/100\n",
      "69350478/69350478 [==============================] - 46s 1us/step - loss: 0.5687 - mean_squared_error: 0.5687 - val_loss: 0.7690 - val_mean_squared_error: 0.7690\n",
      "Epoch 96/100\n",
      "69350478/69350478 [==============================] - 46s 1us/step - loss: 0.5683 - mean_squared_error: 0.5683 - val_loss: 0.7691 - val_mean_squared_error: 0.7691\n",
      "Epoch 97/100\n",
      "69350478/69350478 [==============================] - 46s 1us/step - loss: 0.5680 - mean_squared_error: 0.5680 - val_loss: 0.7692 - val_mean_squared_error: 0.7692\n",
      "Epoch 98/100\n",
      "69350478/69350478 [==============================] - 46s 1us/step - loss: 0.5676 - mean_squared_error: 0.5676 - val_loss: 0.7694 - val_mean_squared_error: 0.7694\n",
      "Epoch 99/100\n",
      "69350478/69350478 [==============================] - 47s 1us/step - loss: 0.5673 - mean_squared_error: 0.5673 - val_loss: 0.7697 - val_mean_squared_error: 0.7697\n",
      "Epoch 100/100\n",
      "69350478/69350478 [==============================] - 47s 1us/step - loss: 0.5670 - mean_squared_error: 0.5670 - val_loss: 0.7699 - val_mean_squared_error: 0.7699\n"
     ]
    },
    {
     "data": {
      "text/plain": [
       "<keras.callbacks.History at 0x7f0061016e10>"
      ]
     },
     "execution_count": 23,
     "metadata": {
      "tags": []
     },
     "output_type": "execute_result"
    }
   ],
   "source": [
    "model.fit(x=[X_train.movie_id_transformed.values.reshape(-1,1),\n",
    "             X_train.user_id_transformed.values.reshape(-1,1)],\n",
    "            y=y_train,\n",
    "            epochs=100,\n",
    "            batch_size=batch_size,\n",
    "            validation_data=([X_dev.movie_id_transformed.values.reshape(-1,1),\n",
    "                       X_dev.user_id_transformed.values.reshape(-1,1)], \n",
    "                             y_dev.values),\n",
    "            callbacks=[es])\n",
    "\n",
    "# QUESTIONS?"
   ]
  },
  {
   "cell_type": "markdown",
   "metadata": {
    "colab_type": "text",
    "id": "DQmVNWbRE5Ge"
   },
   "source": [
    "### Eval RMSE on probe data and save model "
   ]
  },
  {
   "cell_type": "code",
   "execution_count": 12,
   "metadata": {
    "colab": {},
    "colab_type": "code",
    "id": "45Rs7f4mE5Gg"
   },
   "outputs": [],
   "source": [
    "from sklearn.metrics import mean_squared_error"
   ]
  },
  {
   "cell_type": "code",
   "execution_count": 235,
   "metadata": {
    "colab": {
     "base_uri": "https://localhost:8080/",
     "height": 34
    },
    "colab_type": "code",
    "id": "AZOZ_3vPIllf",
    "outputId": "696cc0d5-f368-45fa-c56f-23cd5b4bccb5"
   },
   "outputs": [
    {
     "name": "stdout",
     "output_type": "stream",
     "text": [
      "RMSE for probe data is: 0.997990271028259\n"
     ]
    }
   ],
   "source": [
    "RMSE_probe = np.sqrt(mean_squared_error(probe_df.rating, \n",
    "                   model.predict([probe_df['movie_id'].apply(lambda x: transforming_movie[x]).values.reshape(-1,1),\n",
    "                                  probe_df['user_id'].apply(lambda x: transforming_user[x]).values.reshape(-1,1)\n",
    "                                 ])))\n",
    "print('RMSE for probe data is: {}'.format(RMSE_probe))"
   ]
  },
  {
   "cell_type": "code",
   "execution_count": null,
   "metadata": {
    "colab": {},
    "colab_type": "code",
    "id": "_Hr_f7ZJE5Gp"
   },
   "outputs": [],
   "source": [
    "model.save('/content/drive/My Drive/Colab Notebooks/model{0:.4g}.h5'.format(RMSE_probe))"
   ]
  },
  {
   "cell_type": "code",
   "execution_count": null,
   "metadata": {},
   "outputs": [],
   "source": [
    "del X_dev, X_train\n",
    "gc.collect()"
   ]
  },
  {
   "cell_type": "code",
   "execution_count": null,
   "metadata": {
    "colab": {},
    "colab_type": "code",
    "id": "FqPh9oDZE5G3"
   },
   "outputs": [],
   "source": [
    "# from keras import backend as K\n",
    "# K.clear_session()"
   ]
  },
  {
   "cell_type": "markdown",
   "metadata": {},
   "source": [
    "# Continue from here if you have a saved model "
   ]
  },
  {
   "cell_type": "markdown",
   "metadata": {},
   "source": [
    "### don't forget to run all cells except for model.fit - we will need many of the defined variables "
   ]
  },
  {
   "cell_type": "code",
   "execution_count": 26,
   "metadata": {
    "colab": {},
    "colab_type": "code",
    "id": "4VExyyjGE5Gx"
   },
   "outputs": [
    {
     "name": "stdout",
     "output_type": "stream",
     "text": [
      "WARNING:tensorflow:From /home/noamzbr/anaconda3/envs/tf/lib/python3.7/site-packages/keras/backend/tensorflow_backend.py:174: The name tf.get_default_session is deprecated. Please use tf.compat.v1.get_default_session instead.\n",
      "\n",
      "WARNING:tensorflow:From /home/noamzbr/anaconda3/envs/tf/lib/python3.7/site-packages/keras/backend/tensorflow_backend.py:181: The name tf.ConfigProto is deprecated. Please use tf.compat.v1.ConfigProto instead.\n",
      "\n",
      "WARNING:tensorflow:From /home/noamzbr/anaconda3/envs/tf/lib/python3.7/site-packages/keras/backend/tensorflow_backend.py:186: The name tf.Session is deprecated. Please use tf.compat.v1.Session instead.\n",
      "\n",
      "WARNING:tensorflow:From /home/noamzbr/anaconda3/envs/tf/lib/python3.7/site-packages/keras/backend/tensorflow_backend.py:190: The name tf.global_variables is deprecated. Please use tf.compat.v1.global_variables instead.\n",
      "\n",
      "WARNING:tensorflow:From /home/noamzbr/anaconda3/envs/tf/lib/python3.7/site-packages/keras/backend/tensorflow_backend.py:199: The name tf.is_variable_initialized is deprecated. Please use tf.compat.v1.is_variable_initialized instead.\n",
      "\n",
      "WARNING:tensorflow:From /home/noamzbr/anaconda3/envs/tf/lib/python3.7/site-packages/keras/backend/tensorflow_backend.py:206: The name tf.variables_initializer is deprecated. Please use tf.compat.v1.variables_initializer instead.\n",
      "\n",
      "WARNING:tensorflow:From /home/noamzbr/anaconda3/envs/tf/lib/python3.7/site-packages/keras/backend/tensorflow_backend.py:986: The name tf.assign_add is deprecated. Please use tf.compat.v1.assign_add instead.\n",
      "\n",
      "WARNING:tensorflow:From /home/noamzbr/anaconda3/envs/tf/lib/python3.7/site-packages/keras/backend/tensorflow_backend.py:973: The name tf.assign is deprecated. Please use tf.compat.v1.assign instead.\n",
      "\n"
     ]
    }
   ],
   "source": [
    "model = keras.models.load_model('model0.9976.h5')"
   ]
  },
  {
   "cell_type": "markdown",
   "metadata": {
    "colab_type": "text",
    "id": "KQEUkVP9E5G9"
   },
   "source": [
    "# Basic recommendation system"
   ]
  },
  {
   "cell_type": "code",
   "execution_count": 27,
   "metadata": {
    "colab": {
     "base_uri": "https://localhost:8080/",
     "height": 249
    },
    "colab_type": "code",
    "id": "sfDpibcGE5HF",
    "outputId": "78ab69af-b594-465b-9008-a4f69dc55b94"
   },
   "outputs": [
    {
     "data": {
      "text/html": [
       "<div>\n",
       "<style scoped>\n",
       "    .dataframe tbody tr th:only-of-type {\n",
       "        vertical-align: middle;\n",
       "    }\n",
       "\n",
       "    .dataframe tbody tr th {\n",
       "        vertical-align: top;\n",
       "    }\n",
       "\n",
       "    .dataframe thead th {\n",
       "        text-align: right;\n",
       "    }\n",
       "</style>\n",
       "<table border=\"1\" class=\"dataframe\">\n",
       "  <thead>\n",
       "    <tr style=\"text-align: right;\">\n",
       "      <th></th>\n",
       "      <th>name</th>\n",
       "    </tr>\n",
       "    <tr>\n",
       "      <th>ID</th>\n",
       "      <th></th>\n",
       "    </tr>\n",
       "  </thead>\n",
       "  <tbody>\n",
       "    <tr>\n",
       "      <th>1</th>\n",
       "      <td>Dinosaur Planet</td>\n",
       "    </tr>\n",
       "    <tr>\n",
       "      <th>2</th>\n",
       "      <td>Isle of Man TT 2004 Review</td>\n",
       "    </tr>\n",
       "    <tr>\n",
       "      <th>3</th>\n",
       "      <td>Character</td>\n",
       "    </tr>\n",
       "    <tr>\n",
       "      <th>4</th>\n",
       "      <td>Paula Abdul's Get Up &amp; Dance</td>\n",
       "    </tr>\n",
       "    <tr>\n",
       "      <th>5</th>\n",
       "      <td>The Rise and Fall of ECW</td>\n",
       "    </tr>\n",
       "  </tbody>\n",
       "</table>\n",
       "</div>"
      ],
      "text/plain": [
       "                            name\n",
       "ID                              \n",
       "1                Dinosaur Planet\n",
       "2     Isle of Man TT 2004 Review\n",
       "3                      Character\n",
       "4   Paula Abdul's Get Up & Dance\n",
       "5       The Rise and Fall of ECW"
      ]
     },
     "execution_count": 27,
     "metadata": {},
     "output_type": "execute_result"
    }
   ],
   "source": [
    "# load movie titles per movie id\n",
    "movie_titles_df = pd.read_csv('resources/movie_titles_fixed.csv', names=['ID', 'name'], usecols=[0,2])\n",
    "movie_titles_df.set_index('ID', inplace=True)\n",
    "movie_titles_df.head()"
   ]
  },
  {
   "cell_type": "code",
   "execution_count": 28,
   "metadata": {
    "colab": {},
    "colab_type": "code",
    "id": "S-8DVKloE5Hy"
   },
   "outputs": [],
   "source": [
    "def movie_per_user(model, user_id):\n",
    "    \n",
    "    # array of all movie counters (0 to number of movies)\n",
    "    movie_counter_array = np.arange(num_of_movies).reshape(-1,1)\n",
    "    \n",
    "    # predict for all movies (and a single inputed user) what is the score\n",
    "    preds = model.predict([movie_counter_array, np.ones_like(movie_counter_array)*transforming_user[user_id]])\n",
    "\n",
    "    # find the 10 most highly ranked movies for that user\n",
    "    highest_ranked_counter = preds.argsort(axis=0)[-10:]\n",
    "    \n",
    "    # transform from the ordinal id of the model to the id in the dataset\n",
    "    vfunc = np.vectorize(lambda x: inv_transforming_movie[x])\n",
    "    highest_ranked_idx = vfunc(highest_ranked_counter)\n",
    "    return movie_titles_df.loc[highest_ranked_idx.reshape(-1), :]\n",
    "    "
   ]
  },
  {
   "cell_type": "markdown",
   "metadata": {},
   "source": [
    "### find a user like myself "
   ]
  },
  {
   "cell_type": "code",
   "execution_count": 29,
   "metadata": {},
   "outputs": [
    {
     "data": {
      "text/html": [
       "<div>\n",
       "<style scoped>\n",
       "    .dataframe tbody tr th:only-of-type {\n",
       "        vertical-align: middle;\n",
       "    }\n",
       "\n",
       "    .dataframe tbody tr th {\n",
       "        vertical-align: top;\n",
       "    }\n",
       "\n",
       "    .dataframe thead th {\n",
       "        text-align: right;\n",
       "    }\n",
       "</style>\n",
       "<table border=\"1\" class=\"dataframe\">\n",
       "  <thead>\n",
       "    <tr style=\"text-align: right;\">\n",
       "      <th></th>\n",
       "      <th>name</th>\n",
       "    </tr>\n",
       "    <tr>\n",
       "      <th>ID</th>\n",
       "      <th></th>\n",
       "    </tr>\n",
       "  </thead>\n",
       "  <tbody>\n",
       "    <tr>\n",
       "      <th>1237</th>\n",
       "      <td>The Stars of Star Wars</td>\n",
       "    </tr>\n",
       "    <tr>\n",
       "      <th>2032</th>\n",
       "      <td>Star Wars Animated Adventures: Ewoks</td>\n",
       "    </tr>\n",
       "    <tr>\n",
       "      <th>2610</th>\n",
       "      <td>Star Wars: Ewok Adventures: Caravan of Courage...</td>\n",
       "    </tr>\n",
       "    <tr>\n",
       "      <th>5582</th>\n",
       "      <td>Star Wars: Episode V: The Empire Strikes Back</td>\n",
       "    </tr>\n",
       "    <tr>\n",
       "      <th>5705</th>\n",
       "      <td>Star Wars: Episode II: Attack of the Clones: B...</td>\n",
       "    </tr>\n",
       "    <tr>\n",
       "      <th>7639</th>\n",
       "      <td>Star Wars Trilogy: Bonus Material</td>\n",
       "    </tr>\n",
       "    <tr>\n",
       "      <th>8292</th>\n",
       "      <td>Star Wars: Clone Wars: Vol. 1</td>\n",
       "    </tr>\n",
       "    <tr>\n",
       "      <th>8420</th>\n",
       "      <td>Star Wars Animated Adventures: Droids</td>\n",
       "    </tr>\n",
       "    <tr>\n",
       "      <th>8687</th>\n",
       "      <td>Star Wars: Episode II: Attack of the Clones</td>\n",
       "    </tr>\n",
       "    <tr>\n",
       "      <th>9628</th>\n",
       "      <td>Star Wars: Episode VI: Return of the Jedi</td>\n",
       "    </tr>\n",
       "    <tr>\n",
       "      <th>9886</th>\n",
       "      <td>Star Wars: Episode I: The Phantom Menace</td>\n",
       "    </tr>\n",
       "    <tr>\n",
       "      <th>10877</th>\n",
       "      <td>Star Wars: Episode I: The Phantom Menace: Bonu...</td>\n",
       "    </tr>\n",
       "    <tr>\n",
       "      <th>16265</th>\n",
       "      <td>Star Wars: Episode IV: A New Hope</td>\n",
       "    </tr>\n",
       "  </tbody>\n",
       "</table>\n",
       "</div>"
      ],
      "text/plain": [
       "                                                    name\n",
       "ID                                                      \n",
       "1237                              The Stars of Star Wars\n",
       "2032                Star Wars Animated Adventures: Ewoks\n",
       "2610   Star Wars: Ewok Adventures: Caravan of Courage...\n",
       "5582       Star Wars: Episode V: The Empire Strikes Back\n",
       "5705   Star Wars: Episode II: Attack of the Clones: B...\n",
       "7639                   Star Wars Trilogy: Bonus Material\n",
       "8292                       Star Wars: Clone Wars: Vol. 1\n",
       "8420               Star Wars Animated Adventures: Droids\n",
       "8687         Star Wars: Episode II: Attack of the Clones\n",
       "9628           Star Wars: Episode VI: Return of the Jedi\n",
       "9886            Star Wars: Episode I: The Phantom Menace\n",
       "10877  Star Wars: Episode I: The Phantom Menace: Bonu...\n",
       "16265                  Star Wars: Episode IV: A New Hope"
      ]
     },
     "execution_count": 29,
     "metadata": {},
     "output_type": "execute_result"
    }
   ],
   "source": [
    "star_wars_movies = movie_titles_df.iloc[[i for i,name in enumerate(movie_titles_df.name.values) if 'Star Wars' in name],: ]\n",
    "star_wars_movies"
   ]
  },
  {
   "cell_type": "code",
   "execution_count": 30,
   "metadata": {},
   "outputs": [
    {
     "data": {
      "text/html": [
       "<div>\n",
       "<style scoped>\n",
       "    .dataframe tbody tr th:only-of-type {\n",
       "        vertical-align: middle;\n",
       "    }\n",
       "\n",
       "    .dataframe tbody tr th {\n",
       "        vertical-align: top;\n",
       "    }\n",
       "\n",
       "    .dataframe thead th {\n",
       "        text-align: right;\n",
       "    }\n",
       "</style>\n",
       "<table border=\"1\" class=\"dataframe\">\n",
       "  <thead>\n",
       "    <tr style=\"text-align: right;\">\n",
       "      <th></th>\n",
       "      <th>user_id</th>\n",
       "      <th>movie_id</th>\n",
       "      <th>rating</th>\n",
       "      <th>name</th>\n",
       "    </tr>\n",
       "  </thead>\n",
       "  <tbody>\n",
       "    <tr>\n",
       "      <th>6160640</th>\n",
       "      <td>887273</td>\n",
       "      <td>1237</td>\n",
       "      <td>4</td>\n",
       "      <td>The Stars of Star Wars</td>\n",
       "    </tr>\n",
       "    <tr>\n",
       "      <th>6160641</th>\n",
       "      <td>948367</td>\n",
       "      <td>1237</td>\n",
       "      <td>3</td>\n",
       "      <td>The Stars of Star Wars</td>\n",
       "    </tr>\n",
       "    <tr>\n",
       "      <th>6160642</th>\n",
       "      <td>2189626</td>\n",
       "      <td>1237</td>\n",
       "      <td>3</td>\n",
       "      <td>The Stars of Star Wars</td>\n",
       "    </tr>\n",
       "    <tr>\n",
       "      <th>6160643</th>\n",
       "      <td>853261</td>\n",
       "      <td>1237</td>\n",
       "      <td>5</td>\n",
       "      <td>The Stars of Star Wars</td>\n",
       "    </tr>\n",
       "    <tr>\n",
       "      <th>6160644</th>\n",
       "      <td>1048199</td>\n",
       "      <td>1237</td>\n",
       "      <td>5</td>\n",
       "      <td>The Stars of Star Wars</td>\n",
       "    </tr>\n",
       "  </tbody>\n",
       "</table>\n",
       "</div>"
      ],
      "text/plain": [
       "         user_id  movie_id  rating                    name\n",
       "6160640   887273      1237       4  The Stars of Star Wars\n",
       "6160641   948367      1237       3  The Stars of Star Wars\n",
       "6160642  2189626      1237       3  The Stars of Star Wars\n",
       "6160643   853261      1237       5  The Stars of Star Wars\n",
       "6160644  1048199      1237       5  The Stars of Star Wars"
      ]
     },
     "execution_count": 30,
     "metadata": {},
     "output_type": "execute_result"
    }
   ],
   "source": [
    "star_wars_users_df = data_df.merge(star_wars_movies, left_on='movie_id', right_index=True, how='inner')\n",
    "star_wars_users_df.head()"
   ]
  },
  {
   "cell_type": "code",
   "execution_count": 31,
   "metadata": {},
   "outputs": [
    {
     "data": {
      "text/plain": [
       "user_id\n",
       "6     6\n",
       "7     5\n",
       "8     2\n",
       "79    5\n",
       "83    1\n",
       "Name: movie_id, dtype: int64"
      ]
     },
     "execution_count": 31,
     "metadata": {},
     "output_type": "execute_result"
    }
   ],
   "source": [
    "num_star_df = star_wars_users_df.groupby('user_id').count().movie_id\n",
    "num_star_df.head()"
   ]
  },
  {
   "cell_type": "code",
   "execution_count": 32,
   "metadata": {},
   "outputs": [
    {
     "data": {
      "text/plain": [
       "user_id\n",
       "305344     13\n",
       "2439493    13\n",
       "2548453    13\n",
       "2056022    13\n",
       "1713267    13\n",
       "Name: movie_id, dtype: int64"
      ]
     },
     "execution_count": 32,
     "metadata": {},
     "output_type": "execute_result"
    }
   ],
   "source": [
    "num_star_df.iloc[num_star_df.argsort()].tail()"
   ]
  },
  {
   "cell_type": "code",
   "execution_count": 33,
   "metadata": {},
   "outputs": [
    {
     "data": {
      "text/html": [
       "<div>\n",
       "<style scoped>\n",
       "    .dataframe tbody tr th:only-of-type {\n",
       "        vertical-align: middle;\n",
       "    }\n",
       "\n",
       "    .dataframe tbody tr th {\n",
       "        vertical-align: top;\n",
       "    }\n",
       "\n",
       "    .dataframe thead th {\n",
       "        text-align: right;\n",
       "    }\n",
       "</style>\n",
       "<table border=\"1\" class=\"dataframe\">\n",
       "  <thead>\n",
       "    <tr style=\"text-align: right;\">\n",
       "      <th></th>\n",
       "      <th>user_id</th>\n",
       "      <th>movie_id</th>\n",
       "      <th>rating</th>\n",
       "      <th>name</th>\n",
       "    </tr>\n",
       "  </thead>\n",
       "  <tbody>\n",
       "    <tr>\n",
       "      <th>6160962</th>\n",
       "      <td>1713267</td>\n",
       "      <td>1237</td>\n",
       "      <td>2</td>\n",
       "      <td>The Stars of Star Wars</td>\n",
       "    </tr>\n",
       "    <tr>\n",
       "      <th>10169055</th>\n",
       "      <td>1713267</td>\n",
       "      <td>2032</td>\n",
       "      <td>3</td>\n",
       "      <td>Star Wars Animated Adventures: Ewoks</td>\n",
       "    </tr>\n",
       "    <tr>\n",
       "      <th>13258510</th>\n",
       "      <td>1713267</td>\n",
       "      <td>2610</td>\n",
       "      <td>3</td>\n",
       "      <td>Star Wars: Ewok Adventures: Caravan of Courage...</td>\n",
       "    </tr>\n",
       "    <tr>\n",
       "      <th>29892474</th>\n",
       "      <td>1713267</td>\n",
       "      <td>5582</td>\n",
       "      <td>5</td>\n",
       "      <td>Star Wars: Episode V: The Empire Strikes Back</td>\n",
       "    </tr>\n",
       "    <tr>\n",
       "      <th>30547156</th>\n",
       "      <td>1713267</td>\n",
       "      <td>5705</td>\n",
       "      <td>4</td>\n",
       "      <td>Star Wars: Episode II: Attack of the Clones: B...</td>\n",
       "    </tr>\n",
       "    <tr>\n",
       "      <th>42581087</th>\n",
       "      <td>1713267</td>\n",
       "      <td>7639</td>\n",
       "      <td>4</td>\n",
       "      <td>Star Wars Trilogy: Bonus Material</td>\n",
       "    </tr>\n",
       "    <tr>\n",
       "      <th>45177143</th>\n",
       "      <td>1713267</td>\n",
       "      <td>8292</td>\n",
       "      <td>5</td>\n",
       "      <td>Star Wars: Clone Wars: Vol. 1</td>\n",
       "    </tr>\n",
       "    <tr>\n",
       "      <th>46080440</th>\n",
       "      <td>1713267</td>\n",
       "      <td>8420</td>\n",
       "      <td>3</td>\n",
       "      <td>Star Wars Animated Adventures: Droids</td>\n",
       "    </tr>\n",
       "    <tr>\n",
       "      <th>47341377</th>\n",
       "      <td>1713267</td>\n",
       "      <td>8687</td>\n",
       "      <td>5</td>\n",
       "      <td>Star Wars: Episode II: Attack of the Clones</td>\n",
       "    </tr>\n",
       "    <tr>\n",
       "      <th>52049561</th>\n",
       "      <td>1713267</td>\n",
       "      <td>9628</td>\n",
       "      <td>5</td>\n",
       "      <td>Star Wars: Episode VI: Return of the Jedi</td>\n",
       "    </tr>\n",
       "    <tr>\n",
       "      <th>53337153</th>\n",
       "      <td>1713267</td>\n",
       "      <td>9886</td>\n",
       "      <td>5</td>\n",
       "      <td>Star Wars: Episode I: The Phantom Menace</td>\n",
       "    </tr>\n",
       "    <tr>\n",
       "      <th>58119145</th>\n",
       "      <td>1713267</td>\n",
       "      <td>10877</td>\n",
       "      <td>4</td>\n",
       "      <td>Star Wars: Episode I: The Phantom Menace: Bonu...</td>\n",
       "    </tr>\n",
       "    <tr>\n",
       "      <th>90145028</th>\n",
       "      <td>1713267</td>\n",
       "      <td>16265</td>\n",
       "      <td>5</td>\n",
       "      <td>Star Wars: Episode IV: A New Hope</td>\n",
       "    </tr>\n",
       "  </tbody>\n",
       "</table>\n",
       "</div>"
      ],
      "text/plain": [
       "          user_id  movie_id  rating  \\\n",
       "6160962   1713267      1237       2   \n",
       "10169055  1713267      2032       3   \n",
       "13258510  1713267      2610       3   \n",
       "29892474  1713267      5582       5   \n",
       "30547156  1713267      5705       4   \n",
       "42581087  1713267      7639       4   \n",
       "45177143  1713267      8292       5   \n",
       "46080440  1713267      8420       3   \n",
       "47341377  1713267      8687       5   \n",
       "52049561  1713267      9628       5   \n",
       "53337153  1713267      9886       5   \n",
       "58119145  1713267     10877       4   \n",
       "90145028  1713267     16265       5   \n",
       "\n",
       "                                                       name  \n",
       "6160962                              The Stars of Star Wars  \n",
       "10169055               Star Wars Animated Adventures: Ewoks  \n",
       "13258510  Star Wars: Ewok Adventures: Caravan of Courage...  \n",
       "29892474      Star Wars: Episode V: The Empire Strikes Back  \n",
       "30547156  Star Wars: Episode II: Attack of the Clones: B...  \n",
       "42581087                  Star Wars Trilogy: Bonus Material  \n",
       "45177143                      Star Wars: Clone Wars: Vol. 1  \n",
       "46080440              Star Wars Animated Adventures: Droids  \n",
       "47341377        Star Wars: Episode II: Attack of the Clones  \n",
       "52049561          Star Wars: Episode VI: Return of the Jedi  \n",
       "53337153           Star Wars: Episode I: The Phantom Menace  \n",
       "58119145  Star Wars: Episode I: The Phantom Menace: Bonu...  \n",
       "90145028                  Star Wars: Episode IV: A New Hope  "
      ]
     },
     "execution_count": 33,
     "metadata": {},
     "output_type": "execute_result"
    }
   ],
   "source": [
    "star_wars_users_df.iloc[star_wars_users_df.user_id.values==1713267, :]"
   ]
  },
  {
   "cell_type": "code",
   "execution_count": 34,
   "metadata": {},
   "outputs": [
    {
     "data": {
      "text/html": [
       "<div>\n",
       "<style scoped>\n",
       "    .dataframe tbody tr th:only-of-type {\n",
       "        vertical-align: middle;\n",
       "    }\n",
       "\n",
       "    .dataframe tbody tr th {\n",
       "        vertical-align: top;\n",
       "    }\n",
       "\n",
       "    .dataframe thead th {\n",
       "        text-align: right;\n",
       "    }\n",
       "</style>\n",
       "<table border=\"1\" class=\"dataframe\">\n",
       "  <thead>\n",
       "    <tr style=\"text-align: right;\">\n",
       "      <th></th>\n",
       "      <th>name</th>\n",
       "    </tr>\n",
       "    <tr>\n",
       "      <th>ID</th>\n",
       "      <th></th>\n",
       "    </tr>\n",
       "  </thead>\n",
       "  <tbody>\n",
       "    <tr>\n",
       "      <th>2782</th>\n",
       "      <td>Braveheart</td>\n",
       "    </tr>\n",
       "    <tr>\n",
       "      <th>14550</th>\n",
       "      <td>The Shawshank Redemption: Special Edition</td>\n",
       "    </tr>\n",
       "    <tr>\n",
       "      <th>10042</th>\n",
       "      <td>Raiders of the Lost Ark</td>\n",
       "    </tr>\n",
       "    <tr>\n",
       "      <th>14240</th>\n",
       "      <td>Lord of the Rings: The Return of the King</td>\n",
       "    </tr>\n",
       "    <tr>\n",
       "      <th>5582</th>\n",
       "      <td>Star Wars: Episode V: The Empire Strikes Back</td>\n",
       "    </tr>\n",
       "    <tr>\n",
       "      <th>7664</th>\n",
       "      <td>Gladiator: Extended Edition</td>\n",
       "    </tr>\n",
       "    <tr>\n",
       "      <th>14961</th>\n",
       "      <td>Lord of the Rings: The Return of the King: Ext...</td>\n",
       "    </tr>\n",
       "    <tr>\n",
       "      <th>7230</th>\n",
       "      <td>The Lord of the Rings: The Fellowship of the R...</td>\n",
       "    </tr>\n",
       "    <tr>\n",
       "      <th>7057</th>\n",
       "      <td>Lord of the Rings: The Two Towers: Extended Ed...</td>\n",
       "    </tr>\n",
       "    <tr>\n",
       "      <th>8964</th>\n",
       "      <td>Trailer Park Boys: Season 4</td>\n",
       "    </tr>\n",
       "  </tbody>\n",
       "</table>\n",
       "</div>"
      ],
      "text/plain": [
       "                                                    name\n",
       "ID                                                      \n",
       "2782                                          Braveheart\n",
       "14550          The Shawshank Redemption: Special Edition\n",
       "10042                            Raiders of the Lost Ark\n",
       "14240          Lord of the Rings: The Return of the King\n",
       "5582       Star Wars: Episode V: The Empire Strikes Back\n",
       "7664                         Gladiator: Extended Edition\n",
       "14961  Lord of the Rings: The Return of the King: Ext...\n",
       "7230   The Lord of the Rings: The Fellowship of the R...\n",
       "7057   Lord of the Rings: The Two Towers: Extended Ed...\n",
       "8964                         Trailer Park Boys: Season 4"
      ]
     },
     "execution_count": 34,
     "metadata": {},
     "output_type": "execute_result"
    }
   ],
   "source": [
    "# movie recommendations for a single user that LOVES star wars\n",
    "movie_per_user(model, 1713267)"
   ]
  },
  {
   "cell_type": "markdown",
   "metadata": {},
   "source": [
    "### QUESTIONS?"
   ]
  },
  {
   "cell_type": "markdown",
   "metadata": {
    "colab_type": "text",
    "id": "r-eYueaRE5H9"
   },
   "source": [
    "# Inspect the Movie embedding using clustering"
   ]
  },
  {
   "cell_type": "markdown",
   "metadata": {},
   "source": [
    "#### Create a new model, using the trained layers of the existing one.\n",
    "##### The new model gets a movie_id as an input and returns the embedding in lower dimention"
   ]
  },
  {
   "cell_type": "code",
   "execution_count": 35,
   "metadata": {
    "colab": {},
    "colab_type": "code",
    "id": "tuawVc4RE5H-"
   },
   "outputs": [],
   "source": [
    "movie_embedding_model = Model(inputs=model.get_layer('movie_id').input, outputs=model.get_layer('movie_embedding').output)"
   ]
  },
  {
   "cell_type": "markdown",
   "metadata": {},
   "source": [
    "#### plot whole model "
   ]
  },
  {
   "cell_type": "code",
   "execution_count": 36,
   "metadata": {},
   "outputs": [
    {
     "data": {
      "image/png": "[encoded data removed]",
      "text/plain": [
       "<IPython.core.display.Image object>"
      ]
     },
     "metadata": {},
     "output_type": "display_data"
    }
   ],
   "source": [
    "plot_model(model, to_file='model.png', show_shapes=False)\n",
    "display(Image(filename='model.png'))"
   ]
  },
  {
   "cell_type": "markdown",
   "metadata": {},
   "source": [
    "#### plot extracted model "
   ]
  },
  {
   "cell_type": "code",
   "execution_count": 37,
   "metadata": {},
   "outputs": [
    {
     "data": {
      "image/png": "[encoded data removed]",
      "text/plain": [
       "<IPython.core.display.Image object>"
      ]
     },
     "metadata": {},
     "output_type": "display_data"
    }
   ],
   "source": [
    "plot_model(movie_embedding_model, to_file='model_embedd.png', show_shapes=True)\n",
    "display(Image(filename='model_embedd.png'))"
   ]
  },
  {
   "cell_type": "code",
   "execution_count": 38,
   "metadata": {
    "colab": {},
    "colab_type": "code",
    "id": "gXmJ5La7E5IB"
   },
   "outputs": [],
   "source": [
    "# get embedding for all movies\n",
    "movie_counter_array = np.arange(num_of_movies).reshape(-1,1)\n",
    "movies_embeddings = movie_embedding_model.predict(movie_counter_array)"
   ]
  },
  {
   "cell_type": "code",
   "execution_count": 39,
   "metadata": {
    "colab": {},
    "colab_type": "code",
    "id": "PmHRXoINE5II",
    "outputId": "ce8e4f17-ebeb-4e90-b72b-4b1245b54fb7"
   },
   "outputs": [
    {
     "data": {
      "text/plain": [
       "(17769, 1, 60)"
      ]
     },
     "execution_count": 39,
     "metadata": {},
     "output_type": "execute_result"
    }
   ],
   "source": [
    "movies_embeddings.shape"
   ]
  },
  {
   "cell_type": "markdown",
   "metadata": {},
   "source": [
    "### QUESTIONS?"
   ]
  },
  {
   "cell_type": "code",
   "execution_count": 40,
   "metadata": {
    "colab": {},
    "colab_type": "code",
    "id": "8MFcfoBEE5IN"
   },
   "outputs": [],
   "source": [
    "from sklearn.cluster import KMeans"
   ]
  },
  {
   "cell_type": "code",
   "execution_count": 41,
   "metadata": {
    "colab": {},
    "colab_type": "code",
    "id": "pz-QLH1kE5I5"
   },
   "outputs": [],
   "source": [
    "def get_movies_in_cluster(movie_clustering, n_cluster):\n",
    "    \"\"\" return a list of movie titles that are in a certain cluster\n",
    "    \"\"\"\n",
    "    # cluster num for each movie\n",
    "    movie_clusters = movie_clustering.labels_.astype(float)\n",
    "    \n",
    "    # ordinal id of all movies in the cluster\n",
    "    movie_count_ids = np.arange(num_of_movies)[movie_clusters==n_cluster]\n",
    "    \n",
    "    # retrieve from movie title list using the normal id\n",
    "    vfunc = np.vectorize(lambda x: inv_transforming_movie[x])\n",
    "    movie_in_cluster_idx = vfunc(movie_count_ids)\n",
    "    return movie_titles_df.loc[movie_in_cluster_idx.reshape(-1), :]"
   ]
  },
  {
   "cell_type": "markdown",
   "metadata": {},
   "source": [
    "### Show a low dimention representation of the embedding "
   ]
  },
  {
   "cell_type": "code",
   "execution_count": 42,
   "metadata": {},
   "outputs": [],
   "source": [
    "movie_clustering = KMeans(n_clusters=10, n_jobs=7, random_state=1).fit(\n",
    "            movies_embeddings.reshape(movies_embeddings.shape[0], movies_embeddings.shape[2]))"
   ]
  },
  {
   "cell_type": "markdown",
   "metadata": {},
   "source": [
    "#### PCA representation "
   ]
  },
  {
   "cell_type": "code",
   "execution_count": 43,
   "metadata": {
    "colab": {},
    "colab_type": "code",
    "id": "8Dx4khW0E5IV"
   },
   "outputs": [],
   "source": [
    "from sklearn.decomposition import PCA"
   ]
  },
  {
   "cell_type": "code",
   "execution_count": 44,
   "metadata": {
    "colab": {},
    "colab_type": "code",
    "id": "pPhaEjnpE5IY"
   },
   "outputs": [],
   "source": [
    "movie_pca_2d_transformed_data = PCA(n_components=2).fit_transform(\n",
    "    movies_embeddings.reshape(movies_embeddings.shape[0], movies_embeddings.shape[2]))"
   ]
  },
  {
   "cell_type": "code",
   "execution_count": 45,
   "metadata": {
    "colab": {},
    "colab_type": "code",
    "id": "zdBGLK2DE5Ik",
    "outputId": "fe1394aa-cab9-4418-d717-78256618a754"
   },
   "outputs": [
    {
     "data": {
      "text/plain": [
       "(17769, 2)"
      ]
     },
     "execution_count": 45,
     "metadata": {},
     "output_type": "execute_result"
    }
   ],
   "source": [
    "movie_pca_2d_transformed_data.shape"
   ]
  },
  {
   "cell_type": "code",
   "execution_count": 46,
   "metadata": {
    "colab": {},
    "colab_type": "code",
    "id": "OVmrK4LpE5Iz",
    "outputId": "0b938871-1e60-4691-a13a-b21ee04f1c84"
   },
   "outputs": [
    {
     "data": {
      "image/png": "[encoded data removed]",
      "text/plain": [
       "<Figure size 432x288 with 1 Axes>"
      ]
     },
     "metadata": {
      "needs_background": "light"
     },
     "output_type": "display_data"
    }
   ],
   "source": [
    "plt.scatter(movie_pca_2d_transformed_data[:,0], movie_pca_2d_transformed_data[:,1],\n",
    "            c= movie_clustering.labels_.astype(float), s=0.5, alpha=0.8)\n",
    "plt.show()"
   ]
  },
  {
   "cell_type": "code",
   "execution_count": 47,
   "metadata": {},
   "outputs": [
    {
     "data": {
      "text/html": [
       "<div>\n",
       "<style scoped>\n",
       "    .dataframe tbody tr th:only-of-type {\n",
       "        vertical-align: middle;\n",
       "    }\n",
       "\n",
       "    .dataframe tbody tr th {\n",
       "        vertical-align: top;\n",
       "    }\n",
       "\n",
       "    .dataframe thead th {\n",
       "        text-align: right;\n",
       "    }\n",
       "</style>\n",
       "<table border=\"1\" class=\"dataframe\">\n",
       "  <thead>\n",
       "    <tr style=\"text-align: right;\">\n",
       "      <th></th>\n",
       "      <th>name</th>\n",
       "      <th>order_idx</th>\n",
       "    </tr>\n",
       "    <tr>\n",
       "      <th>ID</th>\n",
       "      <th></th>\n",
       "      <th></th>\n",
       "    </tr>\n",
       "  </thead>\n",
       "  <tbody>\n",
       "    <tr>\n",
       "      <th>1</th>\n",
       "      <td>Dinosaur Planet</td>\n",
       "      <td>0</td>\n",
       "    </tr>\n",
       "    <tr>\n",
       "      <th>2</th>\n",
       "      <td>Isle of Man TT 2004 Review</td>\n",
       "      <td>1</td>\n",
       "    </tr>\n",
       "    <tr>\n",
       "      <th>3</th>\n",
       "      <td>Character</td>\n",
       "      <td>2</td>\n",
       "    </tr>\n",
       "    <tr>\n",
       "      <th>4</th>\n",
       "      <td>Paula Abdul's Get Up &amp; Dance</td>\n",
       "      <td>3</td>\n",
       "    </tr>\n",
       "    <tr>\n",
       "      <th>5</th>\n",
       "      <td>The Rise and Fall of ECW</td>\n",
       "      <td>4</td>\n",
       "    </tr>\n",
       "  </tbody>\n",
       "</table>\n",
       "</div>"
      ],
      "text/plain": [
       "                            name  order_idx\n",
       "ID                                         \n",
       "1                Dinosaur Planet          0\n",
       "2     Isle of Man TT 2004 Review          1\n",
       "3                      Character          2\n",
       "4   Paula Abdul's Get Up & Dance          3\n",
       "5       The Rise and Fall of ECW          4"
      ]
     },
     "execution_count": 47,
     "metadata": {},
     "output_type": "execute_result"
    }
   ],
   "source": [
    "movie_titles_df['order_idx'] = [transforming_movie[x] for x in movie_titles_df.index]\n",
    "movie_titles_df = movie_titles_df.sort_values(by='order_idx')\n",
    "movie_titles_df.head()"
   ]
  },
  {
   "cell_type": "code",
   "execution_count": 48,
   "metadata": {},
   "outputs": [],
   "source": [
    "np.random.seed(7)\n",
    "idx_show = np.random.choice(movie_titles_df['order_idx'], 40, replace=False, )\n",
    "idx_star_wars = [transforming_movie[x] for x in star_wars_movies.index]"
   ]
  },
  {
   "cell_type": "code",
   "execution_count": 49,
   "metadata": {},
   "outputs": [
    {
     "data": {
      "image/png": "[encoded data removed]",
      "text/plain": [
       "<Figure size 1008x1008 with 1 Axes>"
      ]
     },
     "metadata": {
      "needs_background": "light"
     },
     "output_type": "display_data"
    }
   ],
   "source": [
    "plt.figure(figsize=(14,14))\n",
    "plt.scatter(movie_pca_2d_transformed_data[idx_show,0], movie_pca_2d_transformed_data[idx_show,1],\n",
    "            c= movie_clustering.labels_[idx_show].astype(float), s=6, alpha=0.8)\n",
    "for idx in idx_show:\n",
    "    plt.text(movie_pca_2d_transformed_data[idx,0]-0.05, movie_pca_2d_transformed_data[idx,1]+0.001, movie_titles_df.iloc[idx,0], fontsize=8)\n",
    "    \n",
    "plt.scatter(movie_pca_2d_transformed_data[idx_star_wars,0], movie_pca_2d_transformed_data[idx_star_wars,1],\n",
    "            c= 'r', s=12, alpha=0.8)\n",
    "for idx in idx_star_wars:\n",
    "    plt.text(movie_pca_2d_transformed_data[idx,0]-0.05, movie_pca_2d_transformed_data[idx,1]+0.001, movie_titles_df.iloc[idx,0], fontsize=8,\n",
    "            fontdict={'color':'r'})\n",
    "plt.show()"
   ]
  },
  {
   "cell_type": "markdown",
   "metadata": {},
   "source": [
    "### QUESTIONS?"
   ]
  },
  {
   "cell_type": "markdown",
   "metadata": {},
   "source": [
    "## Complex recommendation system - different \"genres\" of movies "
   ]
  },
  {
   "cell_type": "code",
   "execution_count": 50,
   "metadata": {},
   "outputs": [],
   "source": [
    "def get_recommendation_per_cluster(model, movie_clustering, user_id):\n",
    "    \"\"\" return a list of movie titles that are in a certain cluster\n",
    "    \"\"\"\n",
    "    # cluster num for each movie\n",
    "    movie_clusters = movie_clustering.labels_.astype(float)\n",
    "    \n",
    "    \n",
    "    hightest_ranked_movies_idxs = []\n",
    "    \n",
    "    # iterate over all clusters\n",
    "    for n_cluster in np.unique(movie_clusters):\n",
    "        \n",
    "        # ordinal id of all movies in cluster\n",
    "        movie_count_ids = np.arange(num_of_movies)[movie_clusters==n_cluster]\n",
    "\n",
    "        # predict for all movies in cluster (and a single inputed user) what is the score\n",
    "        preds = model.predict([movie_count_ids, np.ones_like(movie_count_ids)*transforming_user[user_id]])\n",
    "\n",
    "        # find the most *predicted to be* highly ranked movie for that user and cluster\n",
    "        highest_ranked_counter = preds.argsort(axis=0)[-1]\n",
    "\n",
    "        # transform from the ordinal id of the model to the id in the dataset\n",
    "        vfunc = np.vectorize(lambda x: inv_transforming_movie[x])\n",
    "        highest_ranked_idx = vfunc(highest_ranked_counter)\n",
    "        \n",
    "        hightest_ranked_movies_idxs.append(highest_ranked_idx)\n",
    "        \n",
    "    hightest_ranked_movies_idxs = np.array(hightest_ranked_movies_idxs)\n",
    "    \n",
    "    return movie_titles_df.loc[hightest_ranked_movies_idxs.reshape(-1), :]"
   ]
  },
  {
   "cell_type": "code",
   "execution_count": 51,
   "metadata": {},
   "outputs": [
    {
     "data": {
      "text/html": [
       "<div>\n",
       "<style scoped>\n",
       "    .dataframe tbody tr th:only-of-type {\n",
       "        vertical-align: middle;\n",
       "    }\n",
       "\n",
       "    .dataframe tbody tr th {\n",
       "        vertical-align: top;\n",
       "    }\n",
       "\n",
       "    .dataframe thead th {\n",
       "        text-align: right;\n",
       "    }\n",
       "</style>\n",
       "<table border=\"1\" class=\"dataframe\">\n",
       "  <thead>\n",
       "    <tr style=\"text-align: right;\">\n",
       "      <th></th>\n",
       "      <th>name</th>\n",
       "      <th>order_idx</th>\n",
       "    </tr>\n",
       "    <tr>\n",
       "      <th>ID</th>\n",
       "      <th></th>\n",
       "      <th></th>\n",
       "    </tr>\n",
       "  </thead>\n",
       "  <tbody>\n",
       "    <tr>\n",
       "      <th>765</th>\n",
       "      <td>Grief</td>\n",
       "      <td>764</td>\n",
       "    </tr>\n",
       "    <tr>\n",
       "      <th>1028</th>\n",
       "      <td>The Educational Archives: Vol. 1: Sex &amp; Drugs</td>\n",
       "      <td>1027</td>\n",
       "    </tr>\n",
       "    <tr>\n",
       "      <th>402</th>\n",
       "      <td>Pan Tadeusz</td>\n",
       "      <td>401</td>\n",
       "    </tr>\n",
       "    <tr>\n",
       "      <th>646</th>\n",
       "      <td>Matewan</td>\n",
       "      <td>645</td>\n",
       "    </tr>\n",
       "    <tr>\n",
       "      <th>765</th>\n",
       "      <td>Grief</td>\n",
       "      <td>764</td>\n",
       "    </tr>\n",
       "    <tr>\n",
       "      <th>388</th>\n",
       "      <td>Body Chemistry</td>\n",
       "      <td>387</td>\n",
       "    </tr>\n",
       "    <tr>\n",
       "      <th>1111</th>\n",
       "      <td>Cries and Whispers</td>\n",
       "      <td>1110</td>\n",
       "    </tr>\n",
       "    <tr>\n",
       "      <th>678</th>\n",
       "      <td>Loves of a Blonde</td>\n",
       "      <td>677</td>\n",
       "    </tr>\n",
       "    <tr>\n",
       "      <th>984</th>\n",
       "      <td>The Young Lions</td>\n",
       "      <td>983</td>\n",
       "    </tr>\n",
       "    <tr>\n",
       "      <th>680</th>\n",
       "      <td>Better Than Sex</td>\n",
       "      <td>679</td>\n",
       "    </tr>\n",
       "  </tbody>\n",
       "</table>\n",
       "</div>"
      ],
      "text/plain": [
       "                                               name  order_idx\n",
       "ID                                                            \n",
       "765                                           Grief        764\n",
       "1028  The Educational Archives: Vol. 1: Sex & Drugs       1027\n",
       "402                                     Pan Tadeusz        401\n",
       "646                                         Matewan        645\n",
       "765                                           Grief        764\n",
       "388                                  Body Chemistry        387\n",
       "1111                             Cries and Whispers       1110\n",
       "678                               Loves of a Blonde        677\n",
       "984                                 The Young Lions        983\n",
       "680                                 Better Than Sex        679"
      ]
     },
     "execution_count": 51,
     "metadata": {},
     "output_type": "execute_result"
    }
   ],
   "source": [
    "get_recommendation_per_cluster(model, movie_clustering, 1713267)"
   ]
  },
  {
   "cell_type": "code",
   "execution_count": 52,
   "metadata": {},
   "outputs": [
    {
     "data": {
      "text/html": [
       "<div>\n",
       "<style scoped>\n",
       "    .dataframe tbody tr th:only-of-type {\n",
       "        vertical-align: middle;\n",
       "    }\n",
       "\n",
       "    .dataframe tbody tr th {\n",
       "        vertical-align: top;\n",
       "    }\n",
       "\n",
       "    .dataframe thead th {\n",
       "        text-align: right;\n",
       "    }\n",
       "</style>\n",
       "<table border=\"1\" class=\"dataframe\">\n",
       "  <thead>\n",
       "    <tr style=\"text-align: right;\">\n",
       "      <th></th>\n",
       "      <th>name</th>\n",
       "      <th>order_idx</th>\n",
       "    </tr>\n",
       "    <tr>\n",
       "      <th>ID</th>\n",
       "      <th></th>\n",
       "      <th></th>\n",
       "    </tr>\n",
       "  </thead>\n",
       "  <tbody>\n",
       "    <tr>\n",
       "      <th>959</th>\n",
       "      <td>Jay Jay the Jet Plane: Lessons for All Seasons</td>\n",
       "      <td>958</td>\n",
       "    </tr>\n",
       "    <tr>\n",
       "      <th>1521</th>\n",
       "      <td>The Trouble With Harry</td>\n",
       "      <td>1520</td>\n",
       "    </tr>\n",
       "    <tr>\n",
       "      <th>731</th>\n",
       "      <td>Mr. Magoo</td>\n",
       "      <td>730</td>\n",
       "    </tr>\n",
       "    <tr>\n",
       "      <th>530</th>\n",
       "      <td>Return to Horror High</td>\n",
       "      <td>529</td>\n",
       "    </tr>\n",
       "    <tr>\n",
       "      <th>776</th>\n",
       "      <td>Dr. Seuss's The 5000 Fingers of Dr. T</td>\n",
       "      <td>775</td>\n",
       "    </tr>\n",
       "    <tr>\n",
       "      <th>1011</th>\n",
       "      <td>All the Right Moves</td>\n",
       "      <td>1010</td>\n",
       "    </tr>\n",
       "    <tr>\n",
       "      <th>1257</th>\n",
       "      <td>Tupperware!: American Experience</td>\n",
       "      <td>1256</td>\n",
       "    </tr>\n",
       "    <tr>\n",
       "      <th>1335</th>\n",
       "      <td>Paul McCartney: Back in the U.S.</td>\n",
       "      <td>1334</td>\n",
       "    </tr>\n",
       "    <tr>\n",
       "      <th>1097</th>\n",
       "      <td>Winning Strategies: Texas Hold 'Em Poker with ...</td>\n",
       "      <td>1096</td>\n",
       "    </tr>\n",
       "    <tr>\n",
       "      <th>811</th>\n",
       "      <td>The Lawnmower Man</td>\n",
       "      <td>810</td>\n",
       "    </tr>\n",
       "  </tbody>\n",
       "</table>\n",
       "</div>"
      ],
      "text/plain": [
       "                                                   name  order_idx\n",
       "ID                                                                \n",
       "959      Jay Jay the Jet Plane: Lessons for All Seasons        958\n",
       "1521                             The Trouble With Harry       1520\n",
       "731                                           Mr. Magoo        730\n",
       "530                               Return to Horror High        529\n",
       "776               Dr. Seuss's The 5000 Fingers of Dr. T        775\n",
       "1011                                All the Right Moves       1010\n",
       "1257                   Tupperware!: American Experience       1256\n",
       "1335                   Paul McCartney: Back in the U.S.       1334\n",
       "1097  Winning Strategies: Texas Hold 'Em Poker with ...       1096\n",
       "811                                   The Lawnmower Man        810"
      ]
     },
     "execution_count": 52,
     "metadata": {},
     "output_type": "execute_result"
    }
   ],
   "source": [
    "get_recommendation_per_cluster(model, movie_clustering, 1608708)"
   ]
  },
  {
   "cell_type": "code",
   "execution_count": 53,
   "metadata": {},
   "outputs": [
    {
     "data": {
      "text/html": [
       "<div>\n",
       "<style scoped>\n",
       "    .dataframe tbody tr th:only-of-type {\n",
       "        vertical-align: middle;\n",
       "    }\n",
       "\n",
       "    .dataframe tbody tr th {\n",
       "        vertical-align: top;\n",
       "    }\n",
       "\n",
       "    .dataframe thead th {\n",
       "        text-align: right;\n",
       "    }\n",
       "</style>\n",
       "<table border=\"1\" class=\"dataframe\">\n",
       "  <thead>\n",
       "    <tr style=\"text-align: right;\">\n",
       "      <th></th>\n",
       "      <th>name</th>\n",
       "      <th>order_idx</th>\n",
       "    </tr>\n",
       "    <tr>\n",
       "      <th>ID</th>\n",
       "      <th></th>\n",
       "      <th></th>\n",
       "    </tr>\n",
       "  </thead>\n",
       "  <tbody>\n",
       "    <tr>\n",
       "      <th>357</th>\n",
       "      <td>House of Sand and Fog</td>\n",
       "      <td>356</td>\n",
       "    </tr>\n",
       "    <tr>\n",
       "      <th>133</th>\n",
       "      <td>Viva La Bam: Season 1</td>\n",
       "      <td>132</td>\n",
       "    </tr>\n",
       "    <tr>\n",
       "      <th>290</th>\n",
       "      <td>Harold and Kumar Go to White Castle</td>\n",
       "      <td>289</td>\n",
       "    </tr>\n",
       "    <tr>\n",
       "      <th>105</th>\n",
       "      <td>Obsessed</td>\n",
       "      <td>104</td>\n",
       "    </tr>\n",
       "    <tr>\n",
       "      <th>1735</th>\n",
       "      <td>Amarcord</td>\n",
       "      <td>1734</td>\n",
       "    </tr>\n",
       "    <tr>\n",
       "      <th>600</th>\n",
       "      <td>What's Up Tiger Lily?</td>\n",
       "      <td>599</td>\n",
       "    </tr>\n",
       "    <tr>\n",
       "      <th>932</th>\n",
       "      <td>Where Are We?</td>\n",
       "      <td>931</td>\n",
       "    </tr>\n",
       "    <tr>\n",
       "      <th>1738</th>\n",
       "      <td>You I Love</td>\n",
       "      <td>1737</td>\n",
       "    </tr>\n",
       "    <tr>\n",
       "      <th>1430</th>\n",
       "      <td>The House Next Door</td>\n",
       "      <td>1429</td>\n",
       "    </tr>\n",
       "    <tr>\n",
       "      <th>809</th>\n",
       "      <td>Left Behind II: Tribulation Force</td>\n",
       "      <td>808</td>\n",
       "    </tr>\n",
       "  </tbody>\n",
       "</table>\n",
       "</div>"
      ],
      "text/plain": [
       "                                     name  order_idx\n",
       "ID                                                  \n",
       "357                 House of Sand and Fog        356\n",
       "133                 Viva La Bam: Season 1        132\n",
       "290   Harold and Kumar Go to White Castle        289\n",
       "105                              Obsessed        104\n",
       "1735                             Amarcord       1734\n",
       "600                 What's Up Tiger Lily?        599\n",
       "932                         Where Are We?        931\n",
       "1738                           You I Love       1737\n",
       "1430                  The House Next Door       1429\n",
       "809     Left Behind II: Tribulation Force        808"
      ]
     },
     "execution_count": 53,
     "metadata": {},
     "output_type": "execute_result"
    }
   ],
   "source": [
    "get_recommendation_per_cluster(model, movie_clustering, 1283744)"
   ]
  },
  {
   "cell_type": "markdown",
   "metadata": {},
   "source": [
    "### QUESTIONS?"
   ]
  }
 ],
 "metadata": {
  "accelerator": "GPU",
  "colab": {
   "collapsed_sections": [
    "DQmVNWbRE5Ge",
    "KQEUkVP9E5G9",
    "r-eYueaRE5H9",
    "3NrFRCd8E5I4",
    "JOnndEW4E5JJ"
   ],
   "machine_shape": "hm",
   "name": "netflix embedding layer.ipynb",
   "provenance": [],
   "toc_visible": true
  },
  "kernelspec": {
   "display_name": "Python 3",
   "language": "python",
   "name": "python3"
  },
  "language_info": {
   "codemirror_mode": {
    "name": "ipython",
    "version": 3
   },
   "file_extension": ".py",
   "mimetype": "text/x-python",
   "name": "python",
   "nbconvert_exporter": "python",
   "pygments_lexer": "ipython3",
   "version": "3.7.6"
  }
 },
 "nbformat": 4,
 "nbformat_minor": 4
}
